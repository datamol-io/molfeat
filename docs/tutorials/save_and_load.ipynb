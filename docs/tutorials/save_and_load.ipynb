{
 "cells": [
  {
   "cell_type": "code",
   "execution_count": 1,
   "metadata": {
    "collapsed": false
   },
   "outputs": [],
   "source": [
    "%load_ext autoreload\n",
    "%autoreload 2\n",
    "\n",
    "import datamol as dm"
   ]
  },
  {
   "attachments": {},
   "cell_type": "markdown",
   "metadata": {
    "collapsed": false
   },
   "source": [
    "Any Molfeat featurizer should be serializable. This makes it easy to share a specific instantiation of a featurizer.\n",
    "Any featurizer can thus be created from - or saved to - a state dictionary. We support native support to save these state dicts to both YAML and JSON.\n",
    "\n",
    "## Example"
   ]
  },
  {
   "cell_type": "code",
   "execution_count": 2,
   "metadata": {
    "collapsed": false
   },
   "outputs": [],
   "source": [
    "from molfeat.trans import MoleculeTransformer\n",
    "\n",
    "featurizer = MoleculeTransformer(\"ecfp\")"
   ]
  },
  {
   "cell_type": "code",
   "execution_count": 3,
   "metadata": {
    "collapsed": false
   },
   "outputs": [
    {
     "name": "stdout",
     "output_type": "stream",
     "text": [
      "_molfeat_version: 0.8.2.dev26+g8b6a1c9.d20230401\n",
      "args:\n",
      "  dtype: null\n",
      "  featurizer: ecfp\n",
      "  n_jobs: 1\n",
      "  parallel_kwargs: null\n",
      "  verbose: false\n",
      "name: MoleculeTransformer\n",
      "\n"
     ]
    }
   ],
   "source": [
    "print(featurizer.to_state_yaml())"
   ]
  },
  {
   "cell_type": "code",
   "execution_count": 4,
   "metadata": {
    "collapsed": false
   },
   "outputs": [
    {
     "name": "stdout",
     "output_type": "stream",
     "text": [
      "{\"name\": \"MoleculeTransformer\", \"args\": {\"featurizer\": \"ecfp\", \"n_jobs\": 1, \"verbose\": false, \"dtype\": null, \"parallel_kwargs\": null}, \"_molfeat_version\": \"0.8.2.dev26+g8b6a1c9.d20230401\"}\n"
     ]
    }
   ],
   "source": [
    "print(featurizer.to_state_json())"
   ]
  },
  {
   "cell_type": "code",
   "execution_count": 5,
   "metadata": {
    "collapsed": false
   },
   "outputs": [
    {
     "name": "stdout",
     "output_type": "stream",
     "text": [
      "{'name': 'MoleculeTransformer', 'args': {'featurizer': 'ecfp', 'n_jobs': 1, 'verbose': False, 'dtype': None, 'parallel_kwargs': None}, '_molfeat_version': '0.8.2.dev26+g8b6a1c9.d20230401'}\n"
     ]
    }
   ],
   "source": [
    "print(featurizer.to_state_dict())"
   ]
  },
  {
   "cell_type": "code",
   "execution_count": 6,
   "metadata": {
    "collapsed": false
   },
   "outputs": [
    {
     "name": "stdout",
     "output_type": "stream",
     "text": [
      "{\"name\": \"MoleculeTransformer\", \"args\": {\"featurizer\": \"ecfp\", \"n_jobs\": 1, \"verbose\": false, \"dtype\": null, \"parallel_kwargs\": null}, \"_molfeat_version\": \"0.8.2.dev26+g8b6a1c9.d20230401\"}\n"
     ]
    }
   ],
   "source": [
    "print(featurizer.to_state_json())"
   ]
  },
  {
   "cell_type": "code",
   "execution_count": 7,
   "metadata": {
    "collapsed": false
   },
   "outputs": [],
   "source": [
    "# You can also directly save to files:\n",
    "import tempfile\n",
    "\n",
    "with tempfile.TemporaryDirectory() as tmpdir:\n",
    "    path = dm.fs.join(tmpdir, \"state_dict.yml\")\n",
    "    featurizer.to_state_yaml_file(path)\n",
    "    featurizer = MoleculeTransformer.from_state_yaml_file(path)"
   ]
  },
  {
   "attachments": {},
   "cell_type": "markdown",
   "metadata": {
    "collapsed": false
   },
   "source": [
    "## Loop over multiple featurizers\n",
    "One implication of this, is that despite the various interfaces, you can easily loop over multiple featurizers."
   ]
  },
  {
   "cell_type": "code",
   "execution_count": 8,
   "metadata": {
    "collapsed": false
   },
   "outputs": [],
   "source": [
    "FEATURIZERS = [\n",
    "    {\"name\": \"MoleculeTransformer\", \"args\": {\"featurizer\": \"ecfp\", \"n_jobs\": 1, \"verbose\": False, \"dtype\": None, \"parallel_kwargs\": None}, \"_molfeat_version\": \"0.0.1\"},\n",
    "    {\"name\": \"MoleculeTransformer\", \"args\": {\"featurizer\": \"maccs\", \"n_jobs\": 1, \"verbose\": False, \"dtype\": None, \"parallel_kwargs\": None}, \"_molfeat_version\": \"0.0.1\"},\n",
    "    {\"name\": \"MoleculeTransformer\", \"args\": {\"featurizer\": \"fcfp\", \"n_jobs\": 1, \"verbose\": False, \"dtype\": None, \"parallel_kwargs\": None}, \"_molfeat_version\": \"0.0.1\"},\n",
    "]"
   ]
  },
  {
   "cell_type": "code",
   "execution_count": 9,
   "metadata": {
    "collapsed": false
   },
   "outputs": [],
   "source": [
    "for state_dict in FEATURIZERS:\n",
    "    featurizer = MoleculeTransformer.from_state_dict(state_dict)\n",
    "    # ... Work your magic!"
   ]
  }
 ],
 "metadata": {
  "kernelspec": {
   "display_name": "Python 3",
   "language": "python",
   "name": "python3"
  },
  "language_info": {
   "codemirror_mode": {
    "name": "ipython",
    "version": 3
   },
   "file_extension": ".py",
   "mimetype": "text/x-python",
   "name": "python",
   "nbconvert_exporter": "python",
   "pygments_lexer": "ipython3",
   "version": "3.10.9"
  }
 },
 "nbformat": 4,
 "nbformat_minor": 0
}
