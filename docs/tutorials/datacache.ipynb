{
 "cells": [
  {
   "cell_type": "code",
   "execution_count": 17,
   "id": "55bdabf8-d809-4b6c-a48e-1e27850aab72",
   "metadata": {},
   "outputs": [
    {
     "name": "stdout",
     "output_type": "stream",
     "text": [
      "The autoreload extension is already loaded. To reload it, use:\n",
      "  %reload_ext autoreload\n"
     ]
    }
   ],
   "source": [
    "%load_ext autoreload\n",
    "%autoreload 2"
   ]
  },
  {
   "attachments": {},
   "cell_type": "markdown",
   "id": "b4b1410d-2d44-4c5a-9743-f8c0d71f13fa",
   "metadata": {},
   "source": [
    "### Caching features\n",
    "\n",
    "molfeat offers a caching system to accelerate molecular featurization. There are two main types of caching systems offered in Molfeat:\n",
    "\n",
    "##### DataCache\n",
    "\n",
    "`DataCache` is the default, mostly *in memory* caching system of `molfeat`. The underlying cache system of `DataCache` is simply a dictionary. To improve efficiency, `DataCache` also supports **shelf** for object persistence.  See the relevant documentation to learn more about `DataCache`.\n",
    "\n",
    "##### FileCache\n",
    "\n",
    " `FileCache` takes a file-based serialization approach to establish the underlying caching system. `FileCache` supports `pickle`, `parquet` and `csv` formats. We recommend the `parquet` file format for its efficiency.\n",
    "\n",
    "---\n",
    "\n",
    "For both `FileCache` and `DataCache`, the key used to save and retrieve a molecular representation is `datamol.unique_id`. Alternatively, you can use inchikey, which is less robust (e.g. does not differentiate tautomers) or even define your own molecular hashing function that you can pass as input to the cache object.\n"
   ]
  },
  {
   "cell_type": "code",
   "execution_count": 18,
   "id": "b248ca43-1c17-41c7-8816-a3bbd6846add",
   "metadata": {},
   "outputs": [],
   "source": [
    "import datamol as dm\n",
    "\n",
    "from molfeat.trans.base import PrecomputedMolTransformer\n",
    "from molfeat.utils.cache import DataCache, FileCache\n",
    "from molfeat.trans.pretrained import FCDTransformer"
   ]
  },
  {
   "cell_type": "code",
   "execution_count": 19,
   "id": "e4253d50-2c3b-46b7-9f57-e5cfe9cd9c6e",
   "metadata": {},
   "outputs": [],
   "source": [
    "data = dm.data.freesolv().sample(500)\n",
    "smiles_col = \"smiles\"\n",
    "molecules = data[\"smiles\"].values\n",
    "targets = data[\"expt\"].values"
   ]
  },
  {
   "cell_type": "code",
   "execution_count": 20,
   "id": "0cbb1c6a-60c0-4bee-af01-faa1e1858bac",
   "metadata": {},
   "outputs": [],
   "source": [
    "# Define cache and transformer. It can be any types of featurizer\n",
    "\n",
    "cache = FileCache(\n",
    "    name=\"fcd_cache_test\",\n",
    "    cache_file=f\"fcd_cache.parquet\",\n",
    "    file_type=\"parquet\",\n",
    "    mol_hasher=\"dm.unique_id\",\n",
    ")\n",
    "\n",
    "transformer = FCDTransformer()"
   ]
  },
  {
   "cell_type": "code",
   "execution_count": 21,
   "id": "9f26176a-4510-4fd1-8324-c35bd4e2b7bb",
   "metadata": {
    "scrolled": true,
    "tags": []
   },
   "outputs": [],
   "source": [
    "# # pregenerate the features and store in cache files\n",
    "_ = cache(molecules, transformer)\n",
    "cache.save_to_file(filepath=cache.name)"
   ]
  },
  {
   "attachments": {},
   "cell_type": "markdown",
   "id": "07d7dcf8",
   "metadata": {},
   "source": [
    "#### Cache properties"
   ]
  },
  {
   "attachments": {},
   "cell_type": "markdown",
   "id": "521c2de1",
   "metadata": {},
   "source": [
    "You can check whether a cache contains a molecule or not"
   ]
  },
  {
   "cell_type": "code",
   "execution_count": 22,
   "id": "87d30e68",
   "metadata": {},
   "outputs": [
    {
     "data": {
      "text/plain": [
       "True"
      ]
     },
     "execution_count": 22,
     "metadata": {},
     "output_type": "execute_result"
    }
   ],
   "source": [
    "# benzene\n",
    "benzene = dm.to_mol('c1ccccc1')\n",
    "benzene in cache"
   ]
  },
  {
   "cell_type": "code",
   "execution_count": 23,
   "id": "7b660a42",
   "metadata": {},
   "outputs": [
    {
     "data": {
      "text/plain": [
       "False"
      ]
     },
     "execution_count": 23,
     "metadata": {},
     "output_type": "execute_result"
    }
   ],
   "source": [
    "# paracetamol\n",
    "paracetamol = dm.to_mol('CC(=O)Nc1ccc(cc1)O')\n",
    "paracetamol in cache"
   ]
  },
  {
   "attachments": {},
   "cell_type": "markdown",
   "id": "081d5f97",
   "metadata": {},
   "source": [
    "You can fetch the information of a molecule from the cache"
   ]
  },
  {
   "cell_type": "code",
   "execution_count": 24,
   "id": "389f6525",
   "metadata": {},
   "outputs": [
    {
     "data": {
      "text/plain": [
       "(512,)"
      ]
     },
     "execution_count": 24,
     "metadata": {},
     "output_type": "execute_result"
    }
   ],
   "source": [
    "fps = cache.get(benzene)\n",
    "fps.shape"
   ]
  },
  {
   "attachments": {},
   "cell_type": "markdown",
   "id": "e0c8609f",
   "metadata": {},
   "source": [
    "You can also serialize a cache by converting it to a state dict\n"
   ]
  },
  {
   "cell_type": "code",
   "execution_count": 25,
   "id": "33804aeb",
   "metadata": {},
   "outputs": [
    {
     "data": {
      "text/plain": [
       "{'_cache_name': 'FileCache',\n",
       " 'cache_file': 'fcd_cache.parquet',\n",
       " 'name': 'fcd_cache_test',\n",
       " 'n_jobs': None,\n",
       " 'verbose': False,\n",
       " 'file_type': 'parquet',\n",
       " 'clear_on_exit': True,\n",
       " 'parquet_kwargs': {},\n",
       " 'mol_hasher': {'hash_name': 'dm.unique_id'}}"
      ]
     },
     "execution_count": 25,
     "metadata": {},
     "output_type": "execute_result"
    }
   ],
   "source": [
    "cache.to_state_dict()"
   ]
  },
  {
   "cell_type": "markdown",
   "id": "6a3dbfa3",
   "metadata": {},
   "source": [
    "You can load a new cache from the serialized state dict or another cache. Or even load a cache from the cache file directly."
   ]
  },
  {
   "cell_type": "code",
   "execution_count": 26,
   "id": "34439598",
   "metadata": {},
   "outputs": [
    {
     "data": {
      "text/plain": [
       "609"
      ]
     },
     "execution_count": 26,
     "metadata": {},
     "output_type": "execute_result"
    }
   ],
   "source": [
    "reload_cache = FileCache.load_from_file(\"fcd_cache.parquet\",\n",
    "    file_type=\"parquet\",\n",
    "    mol_hasher=\"dm.unique_id\",\n",
    ")\n",
    "len(reload_cache)"
   ]
  },
  {
   "cell_type": "code",
   "execution_count": 27,
   "id": "fb564fd2",
   "metadata": {},
   "outputs": [
    {
     "data": {
      "text/plain": [
       "609"
      ]
     },
     "execution_count": 27,
     "metadata": {},
     "output_type": "execute_result"
    }
   ],
   "source": [
    "reload_state_dict_cache = FileCache.from_state_dict(cache.to_state_dict())\n",
    "len(reload_state_dict_cache)"
   ]
  },
  {
   "cell_type": "markdown",
   "id": "2cbd9f77",
   "metadata": {},
   "source": [
    "You can copy the content of a cache file into another cache file. Regardless of the type of cache. "
   ]
  },
  {
   "cell_type": "code",
   "execution_count": 28,
   "id": "1e8284ed-a371-4edb-af03-5c95aa07b7cd",
   "metadata": {},
   "outputs": [
    {
     "data": {
      "text/plain": [
       "609"
      ]
     },
     "execution_count": 28,
     "metadata": {},
     "output_type": "execute_result"
    }
   ],
   "source": [
    "# load pregenerated features from files\n",
    "memorycache = DataCache(\n",
    "    name=\"fcd_cache_memory\",\n",
    "    n_jobs=-1,\n",
    "    mol_hasher=dm.unique_id,\n",
    "    delete_on_exit=True # we delete anything related to the cache at py exit\n",
    ")\n",
    "memorycache.update(cache)\n",
    "len(memorycache)"
   ]
  },
  {
   "attachments": {},
   "cell_type": "markdown",
   "id": "11595b87",
   "metadata": {},
   "source": [
    "#### Using a cache with a precomputed transformer\n",
    "\n",
    "\n",
    "Some molecular transformers natively support a `precompute_cache` attribute that can be used to cache featurization or load cache state into a new featurizer. \n",
    "\n",
    "molfeat also provides a `PrecomputedMolTransformer` class that makes the process easier which allows you to quickly build a new transformer from an existing cache. Similar to any `MoleculeTransformer`, you can serialize the state of a `PrecomputedMolTransformer` and reload it easily."
   ]
  },
  {
   "cell_type": "code",
   "execution_count": 29,
   "id": "357e0c00-c0c5-4df4-8b04-fabea5571734",
   "metadata": {},
   "outputs": [
    {
     "name": "stdout",
     "output_type": "stream",
     "text": [
      "291 ms ± 21.2 ms per loop (mean ± std. dev. of 3 runs, 1 loop each)\n"
     ]
    }
   ],
   "source": [
    "%%timeit -n 1 -r 3\n",
    "transformer = PrecomputedMolTransformer(cache=cache, featurizer=FCDTransformer())\n",
    "transformer(molecules)"
   ]
  },
  {
   "cell_type": "code",
   "execution_count": 30,
   "id": "dabd45ce-7aba-402d-ba70-ef5c26740324",
   "metadata": {},
   "outputs": [
    {
     "name": "stdout",
     "output_type": "stream",
     "text": [
      "2.17 s ± 120 ms per loop (mean ± std. dev. of 3 runs, 1 loop each)\n"
     ]
    }
   ],
   "source": [
    "%%timeit -n 1 -r 3\n",
    "transformer = FCDTransformer()\n",
    "transformer(molecules)"
   ]
  },
  {
   "attachments": {},
   "cell_type": "markdown",
   "id": "6a1dce4c",
   "metadata": {},
   "source": [
    "By computing the features once on you dataset, you can gain astonishing speed on featurization later. \n",
    "\n",
    "Even better, the `PrecomputedMolTransformer` class provides a `batch_transform` function that can leverage parallel computing with shared memory for further performance gains. The `batch_transform` method allows you to both compute features and cache them in a multiprocessing setting for maximum efficiency. This could be relevant for featurizers that accept a batch of molecules, since the normal caching system computes the feature one molecule at a time."
   ]
  },
  {
   "cell_type": "code",
   "execution_count": 31,
   "id": "2b4a208b",
   "metadata": {},
   "outputs": [
    {
     "data": {
      "text/plain": [
       "0"
      ]
     },
     "execution_count": 31,
     "metadata": {},
     "output_type": "execute_result"
    }
   ],
   "source": [
    "from copy import deepcopy\n",
    "cache_empty = deepcopy(cache)\n",
    "# clear the empty cache\n",
    "cache_empty.clear()\n",
    "len(cache_empty)"
   ]
  },
  {
   "cell_type": "code",
   "execution_count": 32,
   "id": "2f5ccc74",
   "metadata": {},
   "outputs": [
    {
     "data": {
      "application/vnd.jupyter.widget-view+json": {
       "model_id": "105b589594ac492dac99cc991d1ace9c",
       "version_major": 2,
       "version_minor": 0
      },
      "text/plain": [
       "Batch compute::   0%|          | 0/10 [00:00<?, ?it/s]"
      ]
     },
     "metadata": {},
     "output_type": "display_data"
    },
    {
     "name": "stdout",
     "output_type": "stream",
     "text": [
      "39.7 s ± 0 ns per loop (mean ± std. dev. of 1 run, 1 loop each)\n"
     ]
    }
   ],
   "source": [
    "%%timeit -n 1 -r 1\n",
    "transformer = PrecomputedMolTransformer(cache=cache_empty, featurizer=FCDTransformer())\n",
    "transformer.batch_transform(transformer, molecules, n_jobs=-1, batch_size=50)"
   ]
  },
  {
   "cell_type": "code",
   "execution_count": 33,
   "id": "6a405a3b",
   "metadata": {},
   "outputs": [
    {
     "data": {
      "text/plain": [
       "500"
      ]
     },
     "execution_count": 33,
     "metadata": {},
     "output_type": "execute_result"
    }
   ],
   "source": [
    "# now we have all 500 molecules cached \n",
    "len(cache_empty)"
   ]
  }
 ],
 "metadata": {
  "kernelspec": {
   "display_name": "Python 3 (ipykernel)",
   "language": "python",
   "name": "python3"
  },
  "language_info": {
   "codemirror_mode": {
    "name": "ipython",
    "version": 3
   },
   "file_extension": ".py",
   "mimetype": "text/x-python",
   "name": "python",
   "nbconvert_exporter": "python",
   "pygments_lexer": "ipython3",
   "version": "3.10.9"
  }
 },
 "nbformat": 4,
 "nbformat_minor": 5
}
