{
 "cells": [
  {
   "cell_type": "code",
   "execution_count": 1,
   "metadata": {
    "collapsed": false
   },
   "outputs": [],
   "source": [
    "%load_ext autoreload\n",
    "%autoreload 2\n",
    "\n",
    "import torch\n",
    "import datamol as dm\n",
    "import numpy as np"
   ]
  },
  {
   "attachments": {},
   "cell_type": "markdown",
   "metadata": {
    "collapsed": false
   },
   "source": [
    "All featurizers in Molfeat inherit from at least one of three classes:\n",
    "1. `molfeat.calc.SerializableCalculator`:</br>A calculator is a Callable that featurizes a single molecule.\n",
    "2. `molfeat.trans.MoleculeTransformer`:</br>A transformer is a class that wraps a calculator in a featurization pipeline.\n",
    "3. `molfeat.trans.pretrained.PretrainedMolTransformer`:</br>A subclass of `MoleculeTransformer` that extends the transformer interface to support the usage of pretrained models.\n",
    "\n",
    "In this tutorial, we will look at each of these classes in more detail.\n",
    "\n",
    "## Calculators\n",
    "A calculator is a Callable that takes an RDKit `Chem.Mol` object or a SMILES string and returns a feature vector.\n",
    "In the following example, we will use the `FPCalculator`."
   ]
  },
  {
   "cell_type": "code",
   "execution_count": 2,
   "metadata": {
    "collapsed": true
   },
   "outputs": [
    {
     "data": {
      "text/plain": [
       "(167,)"
      ]
     },
     "execution_count": 2,
     "metadata": {},
     "output_type": "execute_result"
    }
   ],
   "source": [
    "from molfeat.calc import FPCalculator\n",
    "\n",
    "smiles = \"CN1C=NC2=C1C(=O)N(C(=O)N2C)C\"\n",
    "calc = FPCalculator(\"maccs\")\n",
    "X = calc(smiles)\n",
    "X.shape"
   ]
  },
  {
   "cell_type": "markdown",
   "metadata": {
    "collapsed": false
   },
   "source": [
    "The `FPCalculator` implements several popular molecular fingerprints:"
   ]
  },
  {
   "cell_type": "code",
   "execution_count": 3,
   "metadata": {
    "collapsed": false
   },
   "outputs": [
    {
     "data": {
      "text/plain": [
       "dict_keys(['maccs', 'avalon', 'ecfp', 'fcfp', 'topological', 'atompair', 'rdkit', 'pattern', 'layered', 'map4', 'secfp', 'erg', 'estate', 'avalon-count', 'rdkit-count', 'ecfp-count', 'fcfp-count', 'topological-count', 'atompair-count'])"
      ]
     },
     "execution_count": 3,
     "metadata": {},
     "output_type": "execute_result"
    }
   ],
   "source": [
    "from molfeat.calc import FP_FUNCS\n",
    "FP_FUNCS.keys()"
   ]
  },
  {
   "cell_type": "markdown",
   "metadata": {
    "collapsed": false
   },
   "source": [
    "Switching to any other fingerprint is easy:"
   ]
  },
  {
   "cell_type": "code",
   "execution_count": 4,
   "metadata": {
    "collapsed": false
   },
   "outputs": [
    {
     "data": {
      "text/plain": [
       "(2048,)"
      ]
     },
     "execution_count": 4,
     "metadata": {},
     "output_type": "execute_result"
    }
   ],
   "source": [
    "calc = FPCalculator(\"ecfp\")\n",
    "X = calc(smiles)\n",
    "X.shape"
   ]
  },
  {
   "attachments": {},
   "cell_type": "markdown",
   "metadata": {
    "collapsed": false
   },
   "source": [
    "Beyond these fingerprints, Molfeat also provides calculators for other molecular descriptors. The list of available options can be further extended through [plugins](../developers/create-plugin.html). All available calculator classes, both built-in and plugin-based, can be found through the `molfeat.calc` module:"
   ]
  },
  {
   "cell_type": "code",
   "execution_count": 5,
   "metadata": {
    "collapsed": false
   },
   "outputs": [
    {
     "data": {
      "text/plain": [
       "dict_keys(['CATS', 'RDKitDescriptors2D', 'MordredDescriptors', 'RDKitDescriptors3D', 'FPCalculator', 'Pharmacophore2D', 'Pharmacophore3D', 'ScaffoldKeyCalculator', 'USRDescriptors', 'ElectroShapeDescriptors'])"
      ]
     },
     "execution_count": 5,
     "metadata": {},
     "output_type": "execute_result"
    }
   ],
   "source": [
    "from molfeat.calc import _CALCULATORS\n",
    "_CALCULATORS.keys()"
   ]
  },
  {
   "attachments": {},
   "cell_type": "markdown",
   "metadata": {
    "collapsed": false
   },
   "source": [
    "Every calculator is serializable, meaning it can be efficiently stored to — and loaded from — disk. To learn more, please see the [tutorial on saving and loading featurizers](./save_and_load.html).\n",
    "\n",
    "## Transformers\n",
    "In practice, you won't want to featurize a single molecule, but rather a batch of molecules. This is where transformers come in. A transformer is a class that wraps a calculator in a featurization pipeline. The `MoleculeTransformer` class provides a convenient interface for featurizing a batch of molecules. It also provides a number of useful methods to customize the featurization pipeline."
   ]
  },
  {
   "cell_type": "code",
   "execution_count": 6,
   "metadata": {
    "collapsed": false
   },
   "outputs": [
    {
     "data": {
      "text/plain": [
       "(642, 214)"
      ]
     },
     "execution_count": 6,
     "metadata": {},
     "output_type": "execute_result"
    }
   ],
   "source": [
    "from molfeat.calc import RDKitDescriptors2D\n",
    "from molfeat.trans import MoleculeTransformer\n",
    "\n",
    "data = dm.data.freesolv().smiles.values\n",
    "\n",
    "# Let's try a different calculator!\n",
    "# This is a descriptor with all 2D, physicochemical descriptors from RDKit\n",
    "calc = RDKitDescriptors2D(replace_nan=True)\n",
    "\n",
    "# Wrap the calculator in a transformer instance\n",
    "featurizer = MoleculeTransformer(calc, dtype=np.float64)\n",
    "\n",
    "with dm.without_rdkit_log():\n",
    "    feats = featurizer(data)\n",
    "\n",
    "feats.shape"
   ]
  },
  {
   "cell_type": "markdown",
   "metadata": {
    "collapsed": false
   },
   "source": [
    "The `MoleculeTransformer` class provides a number of useful methods to customize the featurization pipeline. For example, you can easily change the dtype of the features or use parallelization."
   ]
  },
  {
   "cell_type": "code",
   "execution_count": 7,
   "metadata": {
    "collapsed": false
   },
   "outputs": [
    {
     "data": {
      "text/plain": [
       "dtype('float64')"
      ]
     },
     "execution_count": 7,
     "metadata": {},
     "output_type": "execute_result"
    }
   ],
   "source": [
    "feats.dtype"
   ]
  },
  {
   "cell_type": "code",
   "execution_count": 8,
   "metadata": {
    "collapsed": false
   },
   "outputs": [
    {
     "data": {
      "text/plain": [
       "dtype('float32')"
      ]
     },
     "execution_count": 8,
     "metadata": {},
     "output_type": "execute_result"
    }
   ],
   "source": [
    "# To save on memory, we would rather use `float32` than `float64`. Let's change that!\n",
    "featurizer = MoleculeTransformer(calc, dtype=np.float32)\n",
    "\n",
    "with dm.without_rdkit_log():\n",
    "    feats = np.stack(featurizer(data))\n",
    "\n",
    "feats.dtype"
   ]
  },
  {
   "cell_type": "code",
   "execution_count": 9,
   "metadata": {
    "collapsed": false
   },
   "outputs": [
    {
     "data": {
      "text/plain": [
       "torch.float32"
      ]
     },
     "execution_count": 9,
     "metadata": {},
     "output_type": "execute_result"
    }
   ],
   "source": [
    "# Even better, let's directly cast to Torch vectors so we can use them in PyTorch!\n",
    "featurizer = MoleculeTransformer(calc, dtype=torch.float32)\n",
    "\n",
    "with dm.without_rdkit_log():\n",
    "    feats = featurizer(data)\n",
    "feats.dtype"
   ]
  },
  {
   "cell_type": "code",
   "execution_count": 10,
   "metadata": {
    "collapsed": false
   },
   "outputs": [
    {
     "name": "stdout",
     "output_type": "stream",
     "text": [
      "19.8 s ± 4.42 s per loop (mean ± std. dev. of 7 runs, 1 loop each)\n"
     ]
    }
   ],
   "source": [
    "%%timeit\n",
    "# Let's time our current featurization pipeline\n",
    "featurizer = MoleculeTransformer(calc, n_jobs=1, dtype=torch.float32)\n",
    "with dm.without_rdkit_log():\n",
    "    X = featurizer(data)"
   ]
  },
  {
   "cell_type": "code",
   "execution_count": 11,
   "metadata": {
    "collapsed": false
   },
   "outputs": [
    {
     "name": "stdout",
     "output_type": "stream",
     "text": [
      "5.79 s ± 180 ms per loop (mean ± std. dev. of 7 runs, 1 loop each)\n"
     ]
    }
   ],
   "source": [
    "%%timeit\n",
    "# With transformer classes, it's really easy to add parallelization! Let's try speed this up.\n",
    "featurizer = MoleculeTransformer(calc, n_jobs=4, dtype=torch.float32)\n",
    "with dm.without_rdkit_log():\n",
    "    X = featurizer(data)"
   ]
  },
  {
   "cell_type": "markdown",
   "metadata": {
    "collapsed": false
   },
   "source": []
  },
  {
   "attachments": {},
   "cell_type": "markdown",
   "metadata": {
    "collapsed": false
   },
   "source": [
    "Even with such a small dataset, we can already see some performance improvements.\n",
    "\n",
    "### Concatenate featurizers\n",
    "Another interesting feature offered in Molfeat is the ability to concatenate multiple featurizers. However, feature concatenation has some limitations. The most significant being the inability to set the parameters of all transformers in a single call unless you are passing a list of strings corresponding to the calculator names at initialization. \n",
    "\n",
    "It might therefore not be compatible with the Scikit-learn grid search CV API and you will need to handle the update of the parameters of the concatenated featurizer yourself."
   ]
  },
  {
   "cell_type": "code",
   "execution_count": 12,
   "metadata": {
    "collapsed": false
   },
   "outputs": [
    {
     "data": {
      "text/plain": [
       "((1, 167), (1, 2000))"
      ]
     },
     "execution_count": 12,
     "metadata": {},
     "output_type": "execute_result"
    }
   ],
   "source": [
    "from molfeat.trans.fp import FPVecTransformer\n",
    "\n",
    "# We will use the FPVecTransformer to automatically create a calculator by name\n",
    "maccs = FPVecTransformer(\"maccs\", dtype=np.float32)\n",
    "ecfp4 = FPVecTransformer(\"ecfp:4\", dtype=np.float32)\n",
    "\n",
    "maccs([smiles]).shape, ecfp4([smiles]).shape"
   ]
  },
  {
   "cell_type": "code",
   "execution_count": 13,
   "metadata": {
    "collapsed": false
   },
   "outputs": [
    {
     "data": {
      "text/plain": [
       "(1, 2167)"
      ]
     },
     "execution_count": 13,
     "metadata": {},
     "output_type": "execute_result"
    }
   ],
   "source": [
    "from molfeat.trans.concat import FeatConcat\n",
    "\n",
    "featurizer = FeatConcat([maccs, ecfp4], dtype=np.float32)\n",
    "featurizer([smiles]).shape"
   ]
  },
  {
   "attachments": {},
   "cell_type": "markdown",
   "metadata": {},
   "source": [
    "Alternatively you can use a list of strings corresponding to the `FPVecTransformer` name and even define parameters for each featurizer."
   ]
  },
  {
   "cell_type": "code",
   "execution_count": 14,
   "metadata": {},
   "outputs": [
    {
     "data": {
      "text/plain": [
       "(1, 2167)"
      ]
     },
     "execution_count": 14,
     "metadata": {},
     "output_type": "execute_result"
    }
   ],
   "source": [
    "from molfeat.trans.concat import FeatConcat\n",
    "\n",
    "ecfp_params = {'radius':2}\n",
    "featurizer = FeatConcat([\"maccs\", \"ecfp\"], params=dict(ecfp=ecfp_params), dtype=np.float32)\n",
    "featurizer([smiles]).shape"
   ]
  },
  {
   "attachments": {},
   "cell_type": "markdown",
   "metadata": {
    "collapsed": false
   },
   "source": [
    "### Further reading\n",
    "\n",
    "This has only scratched the surface of what the `MoleculeTransformer` class offers. Subsequent tutorials will dive into more detail:\n",
    "\n",
    "- [Easily add your own featurizers](./add_your_own.html): learn how to easily add your own featurizers to Molfeat to take full control.\n",
    "- [Integrations with ML frameworks](./integrations.html): learn how to easily integrate Molfeat with PyTorch and Scikit-learn.\n",
    "\n",
    "## Pretrained transformers\n",
    "Finally, the `PretrainedMolTransformer` class extends the transformer interface to support the usage of pretrained models. This class is a subclass of `MoleculeTransformer` and inherits all its methods. In addition, it adds the `_embed()`, and `_convert()`.\n",
    "\n",
    "- `_embed()`: since pre-trained models benefit from batched featurization, this method is called by the transformer instead of the calculator.\n",
    "- `_convert()`: this method is called by the transformer to convert the input. For example:\n",
    "  - For a pre-trained language model, we convert from a SMILES string or Mol object to a SELFIES string.\n",
    "  - For a pre-trained GNN, we convert from a SMILES string or Mol object to a DGL graph.\n",
    "\n",
    "Furthermore, the `PretrainedMolTransformer` supports the use of a caching system. To learn more, see the [tutorial on the cache](./datacache.html)."
   ]
  }
 ],
 "metadata": {
  "kernelspec": {
   "display_name": "Python 3",
   "language": "python",
   "name": "python3"
  },
  "language_info": {
   "codemirror_mode": {
    "name": "ipython",
    "version": 3
   },
   "file_extension": ".py",
   "mimetype": "text/x-python",
   "name": "python",
   "nbconvert_exporter": "python",
   "pygments_lexer": "ipython3",
   "version": "3.10.9"
  }
 },
 "nbformat": 4,
 "nbformat_minor": 0
}
