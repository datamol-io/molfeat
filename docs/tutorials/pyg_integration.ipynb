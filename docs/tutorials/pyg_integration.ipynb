{
 "cells": [
  {
   "cell_type": "code",
   "execution_count": 1,
   "metadata": {},
   "outputs": [],
   "source": [
    "%load_ext autoreload\n",
    "%autoreload 2\n",
    "\n",
    "import torch\n",
    "import pandas as pd\n",
    "import numpy as np\n",
    "import torch.nn.functional as F\n",
    "from tqdm.auto import tqdm"
   ]
  },
  {
   "attachments": {},
   "cell_type": "markdown",
   "metadata": {},
   "source": [
    "## PyG integration\n",
    "\n",
    "<div class=\"admonition tip highlight\">\n",
    "    <p class=\"admonition-title\">Community contribution</p>\n",
    "    <p>Curious how one would run this tutorial on <a href=\"https://www.graphcore.ai/products/ipu\">Graphcore IPUs</a>? See this tutorial contributed by <a href=\"https://github.com/s-maddrellmander\">@s-maddrellmander</a>:\n",
    "    <a href=\"https://ipu.dev/lDvDHL\"><img alt=\"Run on Gradient\" src=\"https://camo.githubusercontent.com/c9931a1689c37ab786edd3e1e5f59b9a6f7d097628c4689ce2432563ef884524/68747470733a2f2f6173736574732e706170657273706163652e696f2f696d672f6772616469656e742d62616467652e737667\"></a></p>\n",
    "</div>\n"
   ]
  },
  {
   "attachments": {},
   "cell_type": "markdown",
   "metadata": {},
   "source": [
    "As seen in the [molfeat integration tutorial](./integration.html), molfeat integrates easily with the PyTorch ecosystem. In this tutorial, we will demonstrate how you can integrate molfeat with [PyG](https://pytorch-geometric.readthedocs.io/en/latest/) for training SOTA GNNs.\n",
    "\n",
    "To run this tutorial, you will need to install `pytorch-geometric`.\n",
    "\n",
    "`mamba install -c conda-forge pytorch_geometric`"
   ]
  },
  {
   "cell_type": "code",
   "execution_count": 2,
   "metadata": {},
   "outputs": [],
   "source": [
    "from molfeat.trans.graph.adj import PYGGraphTransformer\n",
    "from molfeat.calc.atom import AtomCalculator\n",
    "from molfeat.calc.bond import EdgeMatCalculator"
   ]
  },
  {
   "attachments": {},
   "cell_type": "markdown",
   "metadata": {},
   "source": [
    "### Featurizer\n",
    "\n",
    "We first start by defining our featurizer. We will use the `PYGGraphTransformer` from molfeat with atom and bond featurizers"
   ]
  },
  {
   "cell_type": "code",
   "execution_count": 3,
   "metadata": {},
   "outputs": [],
   "source": [
    "featurizer = PYGGraphTransformer(\n",
    "    atom_featurizer=AtomCalculator(), \n",
    "    bond_featurizer=EdgeMatCalculator()\n",
    ")"
   ]
  },
  {
   "attachments": {},
   "cell_type": "markdown",
   "metadata": {},
   "source": [
    "### Dataset\n",
    "\n",
    "For the dataset, we will use the `Lipophilicity` dataset (LogD) from MoleculeNet, which contains experimental results of octanol/water distribution coefficient at pH=7.4\n"
   ]
  },
  {
   "cell_type": "code",
   "execution_count": 4,
   "metadata": {},
   "outputs": [],
   "source": [
    "df = pd.read_csv(\"https://deepchemdata.s3-us-west-1.amazonaws.com/datasets/Lipophilicity.csv\")"
   ]
  },
  {
   "cell_type": "code",
   "execution_count": 5,
   "metadata": {},
   "outputs": [
    {
     "data": {
      "text/html": [
       "<div>\n",
       "<style scoped>\n",
       "    .dataframe tbody tr th:only-of-type {\n",
       "        vertical-align: middle;\n",
       "    }\n",
       "\n",
       "    .dataframe tbody tr th {\n",
       "        vertical-align: top;\n",
       "    }\n",
       "\n",
       "    .dataframe thead th {\n",
       "        text-align: right;\n",
       "    }\n",
       "</style>\n",
       "<table border=\"1\" class=\"dataframe\">\n",
       "  <thead>\n",
       "    <tr style=\"text-align: right;\">\n",
       "      <th></th>\n",
       "      <th>CMPD_CHEMBLID</th>\n",
       "      <th>exp</th>\n",
       "      <th>smiles</th>\n",
       "    </tr>\n",
       "  </thead>\n",
       "  <tbody>\n",
       "    <tr>\n",
       "      <th>0</th>\n",
       "      <td>CHEMBL596271</td>\n",
       "      <td>3.54</td>\n",
       "      <td>Cn1c(CN2CCN(CC2)c3ccc(Cl)cc3)nc4ccccc14</td>\n",
       "    </tr>\n",
       "    <tr>\n",
       "      <th>1</th>\n",
       "      <td>CHEMBL1951080</td>\n",
       "      <td>-1.18</td>\n",
       "      <td>COc1cc(OC)c(cc1NC(=O)CSCC(=O)O)S(=O)(=O)N2C(C)...</td>\n",
       "    </tr>\n",
       "    <tr>\n",
       "      <th>2</th>\n",
       "      <td>CHEMBL1771</td>\n",
       "      <td>3.69</td>\n",
       "      <td>COC(=O)[C@@H](N1CCc2sccc2C1)c3ccccc3Cl</td>\n",
       "    </tr>\n",
       "    <tr>\n",
       "      <th>3</th>\n",
       "      <td>CHEMBL234951</td>\n",
       "      <td>3.37</td>\n",
       "      <td>OC[C@H](O)CN1C(=O)C(Cc2ccccc12)NC(=O)c3cc4cc(C...</td>\n",
       "    </tr>\n",
       "    <tr>\n",
       "      <th>4</th>\n",
       "      <td>CHEMBL565079</td>\n",
       "      <td>3.10</td>\n",
       "      <td>Cc1cccc(C[C@H](NC(=O)c2cc(nn2C)C(C)(C)C)C(=O)N...</td>\n",
       "    </tr>\n",
       "  </tbody>\n",
       "</table>\n",
       "</div>"
      ],
      "text/plain": [
       "   CMPD_CHEMBLID   exp                                             smiles\n",
       "0   CHEMBL596271  3.54            Cn1c(CN2CCN(CC2)c3ccc(Cl)cc3)nc4ccccc14\n",
       "1  CHEMBL1951080 -1.18  COc1cc(OC)c(cc1NC(=O)CSCC(=O)O)S(=O)(=O)N2C(C)...\n",
       "2     CHEMBL1771  3.69             COC(=O)[C@@H](N1CCc2sccc2C1)c3ccccc3Cl\n",
       "3   CHEMBL234951  3.37  OC[C@H](O)CN1C(=O)C(Cc2ccccc12)NC(=O)c3cc4cc(C...\n",
       "4   CHEMBL565079  3.10  Cc1cccc(C[C@H](NC(=O)c2cc(nn2C)C(C)(C)C)C(=O)N..."
      ]
     },
     "execution_count": 5,
     "metadata": {},
     "output_type": "execute_result"
    }
   ],
   "source": [
    "df.head()"
   ]
  },
  {
   "attachments": {},
   "cell_type": "markdown",
   "metadata": {},
   "source": [
    "Since training a network with PyTorch requires defining a dataset and dataloader, we can define our custom dataset that will take **(1)** the SMILES, **(2)** the LogD measurement, and **(3)** our molfeat transformer as input to generate the data point we need for model training."
   ]
  },
  {
   "cell_type": "code",
   "execution_count": 6,
   "metadata": {},
   "outputs": [],
   "source": [
    "from torch.utils.data import Dataset\n",
    "from torch.utils.data import DataLoader\n",
    "from torch_geometric.utils import degree\n",
    "\n",
    "\n",
    "class DTset(Dataset):\n",
    "    def __init__(self, smiles, y, featurizer):\n",
    "        super().__init__()\n",
    "        self.smiles = smiles\n",
    "        self.featurizer = featurizer\n",
    "        self.featurizer.auto_self_loop()\n",
    "        self.y = torch.tensor(y).unsqueeze(-1).float()\n",
    "        self.transformed_mols = self.featurizer(smiles)\n",
    "        self._degrees = None\n",
    "\n",
    "    @property\n",
    "    def num_atom_features(self):\n",
    "        return self.featurizer.atom_dim\n",
    "\n",
    "    @property\n",
    "    def num_output(self):\n",
    "        return self.y.shape[-1]\n",
    "    \n",
    "    def __len__(self):\n",
    "        return len(self.transformed_mols)\n",
    "    \n",
    "    @property\n",
    "    def num_bond_features(self):\n",
    "        return self.featurizer.bond_dim\n",
    "    \n",
    "\n",
    "    @property\n",
    "    def degree(self):\n",
    "        if self._degrees is  None:\n",
    "            max_degree = -1\n",
    "            for data in self.transformed_mols:\n",
    "                d = degree(data.edge_index[1], num_nodes=data.num_nodes, dtype=torch.long)\n",
    "                max_degree = max(max_degree, int(d.max()))\n",
    "            # Compute the in-degree histogram tensor\n",
    "            deg = torch.zeros(max_degree + 1, dtype=torch.long)\n",
    "            for data in self.transformed_mols:\n",
    "                d = degree(data.edge_index[1], num_nodes=data.num_nodes, dtype=torch.long)\n",
    "                deg += torch.bincount(d, minlength=deg.numel())\n",
    "            self._degrees = deg\n",
    "        return self._degrees\n",
    "\n",
    "    def collate_fn(self, **kwargs):\n",
    "        # luckily the molfeat featurizer provides a collate functoin for PyG\n",
    "        return self.featurizer.get_collate_fn(**kwargs)\n",
    "    \n",
    "    def __getitem__(self, index):\n",
    "        return self.transformed_mols[index], self.y[index]"
   ]
  },
  {
   "cell_type": "code",
   "execution_count": 7,
   "metadata": {},
   "outputs": [],
   "source": [
    "dataset = DTset(df.smiles.values, df.exp.values, featurizer)\n",
    "generator = torch.Generator().manual_seed(42)\n",
    "train_size = int(0.8 * len(dataset))\n",
    "test_size = len(dataset) - train_size\n",
    "train_dt, test_dt = torch.utils.data.random_split(dataset, [train_size, test_size], generator=generator)"
   ]
  },
  {
   "cell_type": "code",
   "execution_count": 8,
   "metadata": {},
   "outputs": [],
   "source": [
    "BATCH_SIZE = 64\n",
    "train_loader = DataLoader(train_dt, batch_size=BATCH_SIZE, shuffle=True, collate_fn=dataset.collate_fn(return_pair=False))\n",
    "test_loader = DataLoader(test_dt, batch_size=BATCH_SIZE, shuffle=False, collate_fn=dataset.collate_fn(return_pair=False))\n"
   ]
  },
  {
   "attachments": {},
   "cell_type": "markdown",
   "metadata": {},
   "source": [
    "### Network + Training\n",
    "We are almost ready to go, we just need to define our GNN. Here we use [PNA](https://arxiv.org/abs/2004.05718) as our GNN."
   ]
  },
  {
   "cell_type": "code",
   "execution_count": 9,
   "metadata": {},
   "outputs": [],
   "source": [
    "from torch_geometric.nn.models import PNA\n",
    "from torch_geometric.nn import global_add_pool\n",
    "\n",
    "DEVICE = \"cpu\"\n",
    "NUM_EPOCHS = 10\n",
    "LEARNING_RATE = 5e-4\n",
    "PNA_AGGREGATORS = ['mean', 'min', 'max', 'std']\n",
    "PNA_SCALERS = ['identity', 'amplification', 'attenuation']"
   ]
  },
  {
   "cell_type": "code",
   "execution_count": 10,
   "metadata": {},
   "outputs": [],
   "source": [
    "model = PNA(in_channels=dataset.num_atom_features, \n",
    "                    hidden_channels=128, \n",
    "                    num_layers=3,\n",
    "                    out_channels=dataset.num_output, \n",
    "                    dropout=0.1, \n",
    "                    act=\"relu\",\n",
    "                    edge_dim=dataset.num_bond_features,\n",
    "                    aggregators = PNA_AGGREGATORS,\n",
    "                    scalers = PNA_SCALERS,\n",
    "                    deg=dataset.degree,\n",
    ")\n",
    "optimizer = torch.optim.Adam(model.parameters(), lr=LEARNING_RATE)"
   ]
  },
  {
   "cell_type": "code",
   "execution_count": 11,
   "metadata": {},
   "outputs": [
    {
     "data": {
      "application/vnd.jupyter.widget-view+json": {
       "model_id": "a0255ecabd0a40d6a8ec611478ca3ae6",
       "version_major": 2,
       "version_minor": 0
      },
      "text/plain": [
       "  0%|          | 0/10 [00:00<?, ?it/s]"
      ]
     },
     "metadata": {},
     "output_type": "display_data"
    }
   ],
   "source": [
    "# Train\n",
    "model = model.to(DEVICE).float()\n",
    "model.train()\n",
    "with tqdm(range(NUM_EPOCHS)) as pbar:\n",
    "    for epoch in pbar:\n",
    "        losses = []\n",
    "        for data in train_loader:\n",
    "            data = data.to(DEVICE)\n",
    "            optimizer.zero_grad()\n",
    "            out = model(data.x, data.edge_index, edge_attr=data.edge_attr)\n",
    "            out = global_add_pool(out, data.batch)\n",
    "            loss = F.mse_loss(out.squeeze(), data.y)\n",
    "            loss.backward()\n",
    "            optimizer.step()\n",
    "            losses.append(loss.item())\n",
    "        pbar.set_description(f\"Epoch {epoch} - Loss {np.mean(losses):.3f}\")"
   ]
  },
  {
   "attachments": {},
   "cell_type": "markdown",
   "metadata": {},
   "source": [
    "### Testing\n",
    "\n",
    "We can now test our model. For the simplicity of this tutorial, no hyper-parameter search and evaluation of the best atom/bond featurization was performed. This inevitably impacts the performance. "
   ]
  },
  {
   "cell_type": "code",
   "execution_count": 12,
   "metadata": {},
   "outputs": [
    {
     "data": {
      "image/png": "[encoded data removed]",
      "text/plain": [
       "<Figure size 640x480 with 1 Axes>"
      ]
     },
     "metadata": {},
     "output_type": "display_data"
    }
   ],
   "source": [
    "from sklearn.metrics import r2_score, mean_absolute_error\n",
    "from matplotlib import pyplot as plt\n",
    "\n",
    "model.eval()\n",
    "test_y_hat = []\n",
    "test_y_true = []\n",
    "with torch.no_grad():\n",
    "    for data in test_loader:\n",
    "        data = data.to(DEVICE)\n",
    "        out = model(data.x, data.edge_index, edge_attr=data.edge_attr)\n",
    "        out = global_add_pool(out, data.batch)\n",
    "        test_y_hat.append(out.detach().cpu().squeeze())\n",
    "        test_y_true.append(data.y)\n",
    "\n",
    "test_y_hat = torch.cat(test_y_hat).numpy()\n",
    "test_y_true = torch.cat(test_y_true).numpy()\n",
    "\n",
    "r2 = r2_score(test_y_true, test_y_hat)\n",
    "mae = mean_absolute_error(test_y_true, test_y_hat)\n",
    "\n",
    "plt.scatter(test_y_true, test_y_hat)\n",
    "_ =plt.gca().annotate(\n",
    "    \"$R2 = {:.2f}$\\nMAE = {:.2f}\".format(r2, mae), \n",
    "    xy=(0.05,0.9),  \n",
    "    xycoords='axes fraction', \n",
    "    size=8,\n",
    "    bbox=dict(boxstyle=\"round\", fc=(1.0, 0.7, 0.7), ec=\"none\")\n",
    ")"
   ]
  }
 ],
 "metadata": {
  "interpreter": {
   "hash": "25cc46219716499d7b4b65986f7c346bc1ce4d9f3ea6745d62d4866f9ff86342"
  },
  "kernelspec": {
   "display_name": "Python 3.9.13",
   "language": "python",
   "name": "python3"
  },
  "language_info": {
   "codemirror_mode": {
    "name": "ipython",
    "version": 3
   },
   "file_extension": ".py",
   "mimetype": "text/x-python",
   "name": "python",
   "nbconvert_exporter": "python",
   "pygments_lexer": "ipython3",
   "version": "3.10.10"
  },
  "orig_nbformat": 4
 },
 "nbformat": 4,
 "nbformat_minor": 2
}
