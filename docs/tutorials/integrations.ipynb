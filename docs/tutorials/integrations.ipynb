{
 "cells": [
  {
   "cell_type": "code",
   "execution_count": 1,
   "metadata": {
    "collapsed": false
   },
   "outputs": [],
   "source": [
    "%load_ext autoreload\n",
    "%autoreload 2\n",
    "\n",
    "import torch\n",
    "from torch import nn\n",
    "import datamol as dm\n",
    "import matplotlib.pyplot as plt"
   ]
  },
  {
   "attachments": {},
   "cell_type": "markdown",
   "metadata": {
    "collapsed": false
   },
   "source": [
    "All transformers in Molfeat are a subclass of `MoleculeTransformer` which in turns implements the `BaseFeaturizer` interface.\n",
    "The `BaseFeaturizer` interface ensures that transformers are compatible with both Scikit-Learn and deep learning frameworks, such as PyTorch and DGL.\n",
    "\n",
    "## Scikit-learn\n",
    "`MoleculeTransformer` implements the `BaseEstimator` and `TransformerMixin` interfaces from Scikit-Learn. This makes it easy to integrate Molfeat featurizers with Scikit-Learn.\n",
    "In the example below, we create a simple Scikit-learn pipeline to predict the solubility of molecules using a random forest regressor."
   ]
  },
  {
   "cell_type": "code",
   "execution_count": 2,
   "metadata": {
    "collapsed": false
   },
   "outputs": [],
   "source": [
    "from sklearn.ensemble import RandomForestRegressor\n",
    "from sklearn.preprocessing import StandardScaler\n",
    "from sklearn.model_selection import train_test_split\n",
    "from sklearn.pipeline import Pipeline\n",
    "\n",
    "from molfeat.trans import MoleculeTransformer"
   ]
  },
  {
   "cell_type": "code",
   "execution_count": 3,
   "metadata": {
    "collapsed": false
   },
   "outputs": [],
   "source": [
    "df = dm.data.freesolv()\n",
    "X, y = df[\"smiles\"], df[\"expt\"]\n",
    "X_train, X_test, y_train, y_test = train_test_split(X, y, random_state=0)\n",
    "\n",
    "# The Molfeat transformer seemingly integrates with Scikit-learn Pipeline!\n",
    "transf = MoleculeTransformer(\"desc2d\")\n",
    "pipe = Pipeline([(\"feat\", transf), (\"scaler\", StandardScaler()), (\"rf\", RandomForestRegressor())])"
   ]
  },
  {
   "cell_type": "code",
   "execution_count": 4,
   "metadata": {
    "collapsed": false
   },
   "outputs": [
    {
     "name": "stdout",
     "output_type": "stream",
     "text": [
      "0.8894267708758367\n"
     ]
    }
   ],
   "source": [
    "with dm.without_rdkit_log():\n",
    "    pipe.fit(X_train, y_train)\n",
    "    score = pipe.score(X_test, y_test)\n",
    "    y_pred = pipe.predict(X_test)\n",
    "\n",
    "print(score)"
   ]
  },
  {
   "cell_type": "code",
   "execution_count": 5,
   "metadata": {
    "collapsed": false
   },
   "outputs": [
    {
     "data": {
      "image/png": "[encoded data removed]",
      "text/plain": [
       "<Figure size 640x480 with 1 Axes>"
      ]
     },
     "metadata": {},
     "output_type": "display_data"
    }
   ],
   "source": [
    "fig, ax = plt.subplots()\n",
    "ax.scatter(y_pred, y_test)\n",
    "ax.set_xlabel(\"Prediction\")\n",
    "ax.set_ylabel(\"Target\");"
   ]
  },
  {
   "cell_type": "markdown",
   "metadata": {
    "collapsed": false
   },
   "source": [
    "Molfeat transformers are also compatible with Scikit-Learn's `GridSearchCV`."
   ]
  },
  {
   "cell_type": "code",
   "execution_count": 6,
   "metadata": {
    "collapsed": false
   },
   "outputs": [
    {
     "data": {
      "text/plain": [
       "0.8986852971188453"
      ]
     },
     "execution_count": 6,
     "metadata": {},
     "output_type": "execute_result"
    }
   ],
   "source": [
    "from molfeat.trans.fp import FPVecTransformer\n",
    "from sklearn.model_selection import GridSearchCV\n",
    "\n",
    "# To search over the featurizer, we use a single transformer that combines several calculators.\n",
    "feat = FPVecTransformer(kind=\"rdkit\")\n",
    "\n",
    "param_grid = dict(\n",
    "    feat__kind=[\"fcfp:6\", \"ecfp:6\", \"maccs\"],\n",
    "    feat__length=[512, 1024],\n",
    "    rf__n_estimators=[100, 500],\n",
    ")\n",
    "\n",
    "pipe = Pipeline([(\"feat\", feat), (\"scaler\", StandardScaler()), (\"rf\", RandomForestRegressor(n_estimators=100))])\n",
    "grid_search = GridSearchCV(pipe, param_grid=param_grid, n_jobs=-1)\n",
    "\n",
    "with dm.without_rdkit_log():\n",
    "    grid_search.fit(X_train, y_train)\n",
    "    score = grid_search.score(X_test, y_test)\n",
    "\n",
    "score"
   ]
  },
  {
   "attachments": {},
   "cell_type": "markdown",
   "metadata": {
    "collapsed": false
   },
   "source": [
    "## PyTorch\n",
    "The `MoleculeTransformer` also defines some utilities such as the `__len__()` method and the `get_collate_fn()` method which makes it easy to integrate with PyTorch.\n",
    "In the example below, we create a simple PyTorch dataset and dataloader using the Molfeat featurizer."
   ]
  },
  {
   "cell_type": "code",
   "execution_count": 7,
   "metadata": {
    "collapsed": false
   },
   "outputs": [],
   "source": [
    "# We can easily get the dimension of the vector!\n",
    "input_size = len(transf)\n",
    "\n",
    "# To for example define the first layer of a Neural Network\n",
    "model = nn.Linear(input_size, 1)\n",
    "\n",
    "# Easily get the associated collate function,\n",
    "# This is for example useful when training a DGL GNN.\n",
    "dataloader = torch.utils.data.DataLoader(X_train, collate_fn=transf.get_collate_fn())"
   ]
  },
  {
   "attachments": {},
   "cell_type": "markdown",
   "metadata": {
    "collapsed": false
   },
   "source": [
    "### Featurization for training Neural Networks\n",
    "Molfeat also includes featurization schemes to convert molecules into a format suited for training neural networks (e.g. tokenized strings or graphs)."
   ]
  },
  {
   "cell_type": "code",
   "execution_count": 8,
   "metadata": {
    "collapsed": false
   },
   "outputs": [
    {
     "data": {
      "text/plain": [
       "dgl.heterograph.DGLGraph"
      ]
     },
     "execution_count": 8,
     "metadata": {},
     "output_type": "execute_result"
    }
   ],
   "source": [
    "from molfeat.trans.graph import DGLGraphTransformer\n",
    "\n",
    "smi = \"CN1C=NC2=C1C(=O)N(C(=O)N2C)C\"\n",
    "\n",
    "# Get the adjacency matrix\n",
    "transf = DGLGraphTransformer()\n",
    "X = transf([smi])[0]\n",
    "type(X)"
   ]
  },
  {
   "cell_type": "code",
   "execution_count": 9,
   "metadata": {
    "collapsed": false
   },
   "outputs": [
    {
     "data": {
      "text/plain": [
       "<function molfeat.trans.graph.adj.DGLGraphTransformer._dgl_collate(batch)>"
      ]
     },
     "execution_count": 9,
     "metadata": {},
     "output_type": "execute_result"
    }
   ],
   "source": [
    "transf.get_collate_fn()"
   ]
  },
  {
   "attachments": {},
   "cell_type": "markdown",
   "metadata": {
    "collapsed": false
   },
   "source": [
    "To learn more about the various graph featurization schemes, please see [this tutorial](./graphs.html). \n",
    "\n",
    "You can also explore the following two tutorials about integrating Molfeat to train deep neural networks in PyTorch:\n",
    "\n",
    "1. [train a PyG GNN](./pyg_integration.html)\n",
    "2. [finetune a Hugging Face transformer](./transformer_finetuning.html)"
   ]
  }
 ],
 "metadata": {
  "kernelspec": {
   "display_name": "Python 3",
   "language": "python",
   "name": "python3"
  },
  "language_info": {
   "codemirror_mode": {
    "name": "ipython",
    "version": 2
   },
   "file_extension": ".py",
   "mimetype": "text/x-python",
   "name": "python",
   "nbconvert_exporter": "python",
   "pygments_lexer": "ipython2",
   "version": "2.7.6"
  }
 },
 "nbformat": 4,
 "nbformat_minor": 0
}
