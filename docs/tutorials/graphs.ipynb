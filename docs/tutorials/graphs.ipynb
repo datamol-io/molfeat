{
 "cells": [
  {
   "cell_type": "code",
   "execution_count": 1,
   "metadata": {},
   "outputs": [],
   "source": [
    "%load_ext autoreload\n",
    "%autoreload 2"
   ]
  },
  {
   "attachments": {},
   "cell_type": "markdown",
   "metadata": {},
   "source": [
    "## Graph transformers\n",
    "\n",
    "Graph featurizers in Molfeat are organized into pure tensor-based featurizers `dgl` backed graphs and `pyg` graphs, all inheriting from `molfeat.trans.graph.GraphTransformer`.\n",
    "Similar to molecular descriptors and fingerprints, there is a notion of the **atom and bond featurizers** which you can define to build your own custom graph featurizers.\n",
    "Some of the dgl featurizers are deeply integrated into the `dgl` and `dgllife` API allowing you to directly use your custom featurizers with these packages.\n",
    "\n",
    "### AtomCalculator\n",
    "Each atom featurizer takes as input an atom (assuming information on its environment is maintained) and returns its features:"
   ]
  },
  {
   "cell_type": "code",
   "execution_count": 2,
   "metadata": {
    "collapsed": false
   },
   "outputs": [
    {
     "data": {
      "image/png": "[encoded data removed]",
      "text/plain": [
       "<rdkit.Chem.rdchem.Mol at 0x169729150>"
      ]
     },
     "execution_count": 2,
     "metadata": {},
     "output_type": "execute_result"
    }
   ],
   "source": [
    "import datamol as dm\n",
    "from rdkit.Chem.Draw import IPythonConsole\n",
    "\n",
    "# Let's use Caffeine as a running example\n",
    "smi = \"CN1C=NC2=C1C(=O)N(C(=O)N2C)C\"\n",
    "IPythonConsole.drawOptions.addBondIndices = True\n",
    "mol = dm.to_mol(smi)\n",
    "mol"
   ]
  },
  {
   "cell_type": "code",
   "execution_count": 3,
   "metadata": {},
   "outputs": [
    {
     "data": {
      "text/plain": [
       "(14, 82)"
      ]
     },
     "execution_count": 3,
     "metadata": {},
     "output_type": "execute_result"
    }
   ],
   "source": [
    "from molfeat.calc.atom import AtomCalculator\n",
    "\n",
    "ac = AtomCalculator()\n",
    "ac(smi)[\"hv\"].shape"
   ]
  },
  {
   "cell_type": "code",
   "execution_count": 4,
   "metadata": {},
   "outputs": [
    {
     "data": {
      "text/plain": [
       "dict_keys(['atom_one_hot', 'atom_degree_one_hot', 'atom_implicit_valence_one_hot', 'atom_hybridization_one_hot', 'atom_is_aromatic', 'atom_formal_charge', 'atom_num_radical_electrons', 'atom_is_in_ring', 'atom_total_num_H_one_hot', 'atom_chiral_tag_one_hot', 'atom_is_chiral_center'])"
      ]
     },
     "execution_count": 4,
     "metadata": {},
     "output_type": "execute_result"
    }
   ],
   "source": [
    "# To get a better sense of what's going on, you can set `concat=False`\n",
    "ac = AtomCalculator(concat=False)\n",
    "ac(smi).keys()"
   ]
  },
  {
   "cell_type": "code",
   "execution_count": 5,
   "metadata": {
    "collapsed": false
   },
   "outputs": [
    {
     "data": {
      "text/plain": [
       "(14, 43)"
      ]
     },
     "execution_count": 5,
     "metadata": {},
     "output_type": "execute_result"
    }
   ],
   "source": [
    "ac(smi)[\"atom_one_hot\"].shape"
   ]
  },
  {
   "attachments": {},
   "cell_type": "markdown",
   "metadata": {},
   "source": [
    "#### Add a custom featurizer\n",
    "Custom descriptors can be added by changing the passing of a dictionary of named Callables.\n",
    "These are Callables that take in the atom and return a list of features.\n"
   ]
  },
  {
   "cell_type": "code",
   "execution_count": 6,
   "metadata": {},
   "outputs": [
    {
     "data": {
      "text/plain": [
       "{'is_transition_metal': array([[0.],\n",
       "        [0.],\n",
       "        [0.],\n",
       "        [0.],\n",
       "        [0.],\n",
       "        [0.],\n",
       "        [0.],\n",
       "        [0.],\n",
       "        [0.],\n",
       "        [0.],\n",
       "        [0.],\n",
       "        [0.],\n",
       "        [0.],\n",
       "        [0.]], dtype=float32)}"
      ]
     },
     "execution_count": 6,
     "metadata": {},
     "output_type": "execute_result"
    }
   ],
   "source": [
    "def is_transition_metal(atom):\n",
    "    \"\"\"Check whether an atom is a transition metal\"\"\"\n",
    "    n = atom.GetAtomicNum()\n",
    "    return [(22 <= n <= 29) or (40 <= n <= 47) or (72 <= n <= 79)]\n",
    "\n",
    "\n",
    "my_feats = {\"is_transition_metal\": is_transition_metal}\n",
    "my_ac = AtomCalculator(featurizer_funcs=my_feats, concat=False)\n",
    "my_ac(smi)"
   ]
  },
  {
   "attachments": {},
   "cell_type": "markdown",
   "metadata": {},
   "source": [
    "By default the input molecule is not ordered in any specific way, so if you want some canonical atom ranking, you would need to take care of that independently. Alternatively, you can use the `GraphTransformer` classes.\n",
    "\n",
    "### BondCalculator\n",
    "\n",
    "Bond featurizers are similar in principle to the atom featurizers. They featurize bonds in a molecule. In Molfeat we make the distinction between:\n",
    "\n",
    "- `BondCalculator`: a pure bond featurizer that will only featurize bonds in the molecules (we assume a bigraph)\n",
    "- `EdgeMatCalculator`: an edge featurizer that returns features between **all pairs of atoms**. For example you may want to define some distance-based properties between pairs of atoms."
   ]
  },
  {
   "cell_type": "code",
   "execution_count": 7,
   "metadata": {},
   "outputs": [],
   "source": [
    "from molfeat.calc.bond import BondCalculator"
   ]
  },
  {
   "cell_type": "code",
   "execution_count": 8,
   "metadata": {},
   "outputs": [
    {
     "data": {
      "text/plain": [
       "(30, 15)"
      ]
     },
     "execution_count": 8,
     "metadata": {},
     "output_type": "execute_result"
    }
   ],
   "source": [
    "bc = BondCalculator()\n",
    "out = bc(smi)\n",
    "out[\"he\"].shape"
   ]
  },
  {
   "cell_type": "code",
   "execution_count": 9,
   "metadata": {
    "collapsed": false
   },
   "outputs": [
    {
     "data": {
      "text/plain": [
       "dict_keys(['bond_type_one_hot', 'bond_stereo_one_hot', 'bond_is_in_ring', 'bond_is_conjugated', 'bond_direction_one_hot'])"
      ]
     },
     "execution_count": 9,
     "metadata": {},
     "output_type": "execute_result"
    }
   ],
   "source": [
    "# Or, again, to be more verbose:\n",
    "bc = BondCalculator(concat=False)\n",
    "out = bc(smi)\n",
    "out.keys()"
   ]
  },
  {
   "cell_type": "code",
   "execution_count": 10,
   "metadata": {},
   "outputs": [
    {
     "data": {
      "text/plain": [
       "(44, 16)"
      ]
     },
     "execution_count": 10,
     "metadata": {},
     "output_type": "execute_result"
    }
   ],
   "source": [
    "# You can also add self-loops: Edges from an atom to itself\n",
    "bc = BondCalculator(self_loop=True)\n",
    "out = bc(smi)\n",
    "out[\"he\"].shape"
   ]
  },
  {
   "attachments": {},
   "cell_type": "markdown",
   "metadata": {},
   "source": [
    "### EdgeMatCalculator\n",
    "In the following, we will give an overview of the **EdgeMatCalculator**. This edge featurizer defines the same bond featurizer but has an additional pairwise distance function.\n",
    "\n",
    "**Due to its nature, all features need to be concatenated by default with this featurizer!**"
   ]
  },
  {
   "cell_type": "code",
   "execution_count": 11,
   "metadata": {},
   "outputs": [],
   "source": [
    "from molfeat.calc.bond import EdgeMatCalculator"
   ]
  },
  {
   "cell_type": "code",
   "execution_count": 12,
   "metadata": {},
   "outputs": [
    {
     "name": "stdout",
     "output_type": "stream",
     "text": [
      "{'pairwise_2D_dist': <function pairwise_2D_dist at 0x1704bd630>, 'pairwise_ring_membership': <function pairwise_ring_membership at 0x1704bd900>}\n"
     ]
    }
   ],
   "source": [
    "edge_feat = EdgeMatCalculator()\n",
    "print(edge_feat.pairwise_atom_funcs)"
   ]
  },
  {
   "cell_type": "code",
   "execution_count": 13,
   "metadata": {},
   "outputs": [
    {
     "data": {
      "text/plain": [
       "(196, 17)"
      ]
     },
     "execution_count": 13,
     "metadata": {},
     "output_type": "execute_result"
    }
   ],
   "source": [
    "edge_feat(smi)[\"he\"].shape"
   ]
  },
  {
   "cell_type": "markdown",
   "metadata": {},
   "source": [
    "Let's replace the pairwise 2D distance by a 3D distance"
   ]
  },
  {
   "cell_type": "code",
   "execution_count": 14,
   "metadata": {},
   "outputs": [
    {
     "data": {
      "text/plain": [
       "17"
      ]
     },
     "execution_count": 14,
     "metadata": {},
     "output_type": "execute_result"
    }
   ],
   "source": [
    "from molfeat.calc._atom_bond_features import pairwise_3D_dist\n",
    "\n",
    "my_edge_feat = dict(\n",
    "    pairwise_ring_membership=edge_feat.pairwise_atom_funcs[\"pairwise_ring_membership\"],\n",
    "    pairwise_3D_dist=pairwise_3D_dist,\n",
    ")\n",
    "new_edge_feat = EdgeMatCalculator(pairwise_atom_funcs=my_edge_feat)\n",
    "len(new_edge_feat)"
   ]
  },
  {
   "cell_type": "code",
   "execution_count": 15,
   "metadata": {},
   "outputs": [],
   "source": [
    "# To use the 3D distance, we need to generate 3D conformers\n",
    "mol = dm.to_mol(smi)\n",
    "mol = dm.conformers.generate(mol)"
   ]
  },
  {
   "cell_type": "markdown",
   "metadata": {},
   "source": [
    "Let's ask for a tensor and also instead of a $({N_{atoms}}^2, Feats)$ features, let ask for a $(N_{atoms}, N_{atoms}, Feats)$ matrix\n"
   ]
  },
  {
   "cell_type": "code",
   "execution_count": 16,
   "metadata": {},
   "outputs": [
    {
     "data": {
      "text/plain": [
       "torch.Size([14, 14, 17])"
      ]
     },
     "execution_count": 16,
     "metadata": {},
     "output_type": "execute_result"
    }
   ],
   "source": [
    "import torch\n",
    "\n",
    "new_edge_feat(mol, dtype=torch.float, flat=False)[\"he\"].shape"
   ]
  },
  {
   "attachments": {},
   "cell_type": "markdown",
   "metadata": {},
   "source": [
    "### Putting all together\n",
    "With the ability to define our own node and edge featurizers, we can define any graph featurizer of interest. Strong defaults are made available in Molfeat:"
   ]
  },
  {
   "cell_type": "code",
   "execution_count": 17,
   "metadata": {},
   "outputs": [],
   "source": [
    "from molfeat.trans.graph import AdjGraphTransformer\n",
    "from molfeat.trans.graph import DistGraphTransformer3D\n",
    "from molfeat.trans.graph import DGLGraphTransformer\n",
    "from molfeat.trans.graph import PYGGraphTransformer"
   ]
  },
  {
   "cell_type": "code",
   "execution_count": 18,
   "metadata": {},
   "outputs": [
    {
     "data": {
      "text/plain": [
       "(82, 17)"
      ]
     },
     "execution_count": 18,
     "metadata": {},
     "output_type": "execute_result"
    }
   ],
   "source": [
    "adj_trans = AdjGraphTransformer(\n",
    "    atom_featurizer=AtomCalculator(),\n",
    "    bond_featurizer=EdgeMatCalculator(),\n",
    "    explicit_hydrogens=True,\n",
    "    self_loop=True,\n",
    "    canonical_atom_order=True,\n",
    "    dtype=torch.float,\n",
    ")\n",
    "adj_trans.atom_dim, adj_trans.bond_dim"
   ]
  },
  {
   "cell_type": "code",
   "execution_count": 19,
   "metadata": {},
   "outputs": [
    {
     "data": {
      "text/plain": [
       "(torch.Size([14, 14]), torch.Size([14, 82]), torch.Size([14, 14, 17]))"
      ]
     },
     "execution_count": 19,
     "metadata": {},
     "output_type": "execute_result"
    }
   ],
   "source": [
    "features = adj_trans(smi)\n",
    "graph, atom_x, bond_x = features[0]\n",
    "graph.shape, atom_x.shape, bond_x.shape"
   ]
  },
  {
   "cell_type": "code",
   "execution_count": 20,
   "metadata": {},
   "outputs": [
    {
     "data": {
      "text/plain": [
       "(82, 0)"
      ]
     },
     "execution_count": 20,
     "metadata": {},
     "output_type": "execute_result"
    }
   ],
   "source": [
    "dist_trans = DistGraphTransformer3D(\n",
    "    explicit_hydrogens=False,\n",
    "    canonical_atom_order=True,\n",
    "    dtype=torch.float,\n",
    ")\n",
    "\n",
    "dist_trans.atom_dim, dist_trans.bond_dim"
   ]
  },
  {
   "cell_type": "code",
   "execution_count": 21,
   "metadata": {},
   "outputs": [
    {
     "data": {
      "text/plain": [
       "(torch.Size([14, 14]), torch.Size([14, 82]), torch.Size([14, 14, 17]))"
      ]
     },
     "execution_count": 21,
     "metadata": {},
     "output_type": "execute_result"
    }
   ],
   "source": [
    "# we don't have bond feature here\n",
    "features = dist_trans(mol)\n",
    "graph, atom_x = features[0]\n",
    "graph.shape, atom_x.shape, bond_x.shape"
   ]
  },
  {
   "cell_type": "code",
   "execution_count": 22,
   "metadata": {},
   "outputs": [],
   "source": [
    "# we need the bond featurizer to include self_loop if the featurizer is supposed too\n",
    "dgl_trans = DGLGraphTransformer(\n",
    "    self_loop=True,\n",
    "    bond_featurizer=BondCalculator(self_loop=True),\n",
    "    canonical_atom_order=True,\n",
    "    dtype=torch.float,\n",
    ")"
   ]
  },
  {
   "cell_type": "code",
   "execution_count": 23,
   "metadata": {},
   "outputs": [
    {
     "data": {
      "text/plain": [
       "(82, 16)"
      ]
     },
     "execution_count": 23,
     "metadata": {},
     "output_type": "execute_result"
    }
   ],
   "source": [
    "dgl_trans.atom_dim, dgl_trans.bond_dim"
   ]
  },
  {
   "cell_type": "code",
   "execution_count": 24,
   "metadata": {},
   "outputs": [
    {
     "data": {
      "text/plain": [
       "Graph(num_nodes=14, num_edges=44,\n",
       "      ndata_schemes={'hv': Scheme(shape=(82,), dtype=torch.float32)}\n",
       "      edata_schemes={'he': Scheme(shape=(16,), dtype=torch.float32)})"
      ]
     },
     "execution_count": 24,
     "metadata": {},
     "output_type": "execute_result"
    }
   ],
   "source": [
    "# we don't have bond feature here\n",
    "features = dgl_trans(smi)\n",
    "features[0]"
   ]
  },
  {
   "cell_type": "code",
   "execution_count": 25,
   "metadata": {},
   "outputs": [],
   "source": [
    "from dgllife.utils.featurizers import WeaveEdgeFeaturizer\n",
    "from dgllife.utils.featurizers import WeaveAtomFeaturizer"
   ]
  },
  {
   "cell_type": "code",
   "execution_count": 26,
   "metadata": {},
   "outputs": [],
   "source": [
    "# here we set complete graph to True, which requires compatibility from the atom and bond featurizer\n",
    "dgl_trans = DGLGraphTransformer(\n",
    "    self_loop=True,\n",
    "    atom_featurizer=WeaveAtomFeaturizer(),\n",
    "    bond_featurizer=WeaveEdgeFeaturizer(),\n",
    "    canonical_atom_order=True,\n",
    "    complete_graph=True,\n",
    "    verbose=True,\n",
    "    dtype=torch.float,\n",
    ")"
   ]
  },
  {
   "cell_type": "code",
   "execution_count": 27,
   "metadata": {},
   "outputs": [
    {
     "data": {
      "text/plain": [
       "(27, 12)"
      ]
     },
     "execution_count": 27,
     "metadata": {},
     "output_type": "execute_result"
    }
   ],
   "source": [
    "dgl_trans.atom_dim, dgl_trans.bond_dim"
   ]
  },
  {
   "cell_type": "code",
   "execution_count": 28,
   "metadata": {},
   "outputs": [
    {
     "data": {
      "text/plain": [
       "Graph(num_nodes=14, num_edges=196,\n",
       "      ndata_schemes={'h': Scheme(shape=(27,), dtype=torch.float32)}\n",
       "      edata_schemes={'e': Scheme(shape=(12,), dtype=torch.float32)})"
      ]
     },
     "execution_count": 28,
     "metadata": {},
     "output_type": "execute_result"
    }
   ],
   "source": [
    "features = dgl_trans(smi)\n",
    "features[0]"
   ]
  },
  {
   "cell_type": "code",
   "execution_count": 29,
   "metadata": {},
   "outputs": [
    {
     "data": {
      "text/plain": [
       "(82, 16)"
      ]
     },
     "execution_count": 29,
     "metadata": {},
     "output_type": "execute_result"
    }
   ],
   "source": [
    "# You can also create a PyG graph featurizer, the same way you define a DGL graph featurizer\n",
    "\n",
    "pyg_trans = PYGGraphTransformer(\n",
    "    atom_featurizer=AtomCalculator(),\n",
    "    bond_featurizer=BondCalculator(self_loop=True),\n",
    "    self_loop=True,\n",
    "    canonical_atom_order=True,\n",
    "    dtype=torch.float,\n",
    ")\n",
    "pyg_trans.atom_dim, pyg_trans.bond_dim"
   ]
  },
  {
   "cell_type": "code",
   "execution_count": 30,
   "metadata": {},
   "outputs": [
    {
     "data": {
      "text/plain": [
       "Graph(num_nodes=14, num_edges=196,\n",
       "      ndata_schemes={'h': Scheme(shape=(27,), dtype=torch.float32)}\n",
       "      edata_schemes={'e': Scheme(shape=(12,), dtype=torch.float32)})"
      ]
     },
     "execution_count": 30,
     "metadata": {},
     "output_type": "execute_result"
    }
   ],
   "source": [
    "features = dgl_trans(smi)\n",
    "features[0]"
   ]
  },
  {
   "attachments": {},
   "cell_type": "markdown",
   "metadata": {},
   "source": [
    "## Tree Calculator\n",
    "The tree calculator is straightforward and only a dgl datatype is supported. It's the tree decomposition behind the [Junction Tree Variational Autoencoder](http://proceedings.mlr.press/v80/jin18a/jin18a.pdf)."
   ]
  },
  {
   "cell_type": "code",
   "execution_count": 31,
   "metadata": {},
   "outputs": [],
   "source": [
    "from molfeat.trans.graph import MolTreeDecompositionTransformer"
   ]
  },
  {
   "cell_type": "code",
   "execution_count": 32,
   "metadata": {},
   "outputs": [
    {
     "data": {
      "text/html": [
       "<style>#sk-container-id-1 {color: black;background-color: white;}#sk-container-id-1 pre{padding: 0;}#sk-container-id-1 div.sk-toggleable {background-color: white;}#sk-container-id-1 label.sk-toggleable__label {cursor: pointer;display: block;width: 100%;margin-bottom: 0;padding: 0.3em;box-sizing: border-box;text-align: center;}#sk-container-id-1 label.sk-toggleable__label-arrow:before {content: \"▸\";float: left;margin-right: 0.25em;color: #696969;}#sk-container-id-1 label.sk-toggleable__label-arrow:hover:before {color: black;}#sk-container-id-1 div.sk-estimator:hover label.sk-toggleable__label-arrow:before {color: black;}#sk-container-id-1 div.sk-toggleable__content {max-height: 0;max-width: 0;overflow: hidden;text-align: left;background-color: #f0f8ff;}#sk-container-id-1 div.sk-toggleable__content pre {margin: 0.2em;color: black;border-radius: 0.25em;background-color: #f0f8ff;}#sk-container-id-1 input.sk-toggleable__control:checked~div.sk-toggleable__content {max-height: 200px;max-width: 100%;overflow: auto;}#sk-container-id-1 input.sk-toggleable__control:checked~label.sk-toggleable__label-arrow:before {content: \"▾\";}#sk-container-id-1 div.sk-estimator input.sk-toggleable__control:checked~label.sk-toggleable__label {background-color: #d4ebff;}#sk-container-id-1 div.sk-label input.sk-toggleable__control:checked~label.sk-toggleable__label {background-color: #d4ebff;}#sk-container-id-1 input.sk-hidden--visually {border: 0;clip: rect(1px 1px 1px 1px);clip: rect(1px, 1px, 1px, 1px);height: 1px;margin: -1px;overflow: hidden;padding: 0;position: absolute;width: 1px;}#sk-container-id-1 div.sk-estimator {font-family: monospace;background-color: #f0f8ff;border: 1px dotted black;border-radius: 0.25em;box-sizing: border-box;margin-bottom: 0.5em;}#sk-container-id-1 div.sk-estimator:hover {background-color: #d4ebff;}#sk-container-id-1 div.sk-parallel-item::after {content: \"\";width: 100%;border-bottom: 1px solid gray;flex-grow: 1;}#sk-container-id-1 div.sk-label:hover label.sk-toggleable__label {background-color: #d4ebff;}#sk-container-id-1 div.sk-serial::before {content: \"\";position: absolute;border-left: 1px solid gray;box-sizing: border-box;top: 0;bottom: 0;left: 50%;z-index: 0;}#sk-container-id-1 div.sk-serial {display: flex;flex-direction: column;align-items: center;background-color: white;padding-right: 0.2em;padding-left: 0.2em;position: relative;}#sk-container-id-1 div.sk-item {position: relative;z-index: 1;}#sk-container-id-1 div.sk-parallel {display: flex;align-items: stretch;justify-content: center;background-color: white;position: relative;}#sk-container-id-1 div.sk-item::before, #sk-container-id-1 div.sk-parallel-item::before {content: \"\";position: absolute;border-left: 1px solid gray;box-sizing: border-box;top: 0;bottom: 0;left: 50%;z-index: -1;}#sk-container-id-1 div.sk-parallel-item {display: flex;flex-direction: column;z-index: 1;position: relative;background-color: white;}#sk-container-id-1 div.sk-parallel-item:first-child::after {align-self: flex-end;width: 50%;}#sk-container-id-1 div.sk-parallel-item:last-child::after {align-self: flex-start;width: 50%;}#sk-container-id-1 div.sk-parallel-item:only-child::after {width: 0;}#sk-container-id-1 div.sk-dashed-wrapped {border: 1px dashed gray;margin: 0 0.4em 0.5em 0.4em;box-sizing: border-box;padding-bottom: 0.4em;background-color: white;}#sk-container-id-1 div.sk-label label {font-family: monospace;font-weight: bold;display: inline-block;line-height: 1.2em;}#sk-container-id-1 div.sk-label-container {text-align: center;}#sk-container-id-1 div.sk-container {/* jupyter's `normalize.less` sets `[hidden] { display: none; }` but bootstrap.min.css set `[hidden] { display: none !important; }` so we also need the `!important` here to be able to override the default hidden behavior on the sphinx rendered scikit-learn.org. See: https://github.com/scikit-learn/scikit-learn/issues/21755 */display: inline-block !important;position: relative;}#sk-container-id-1 div.sk-text-repr-fallback {display: none;}</style><div id=\"sk-container-id-1\" class=\"sk-top-container\"><div class=\"sk-text-repr-fallback\"><pre>MolTreeDecompositionTransformer(featurizer=&lt;molfeat.calc.tree.TreeDecomposer object at 0x1794cead0&gt;,\n",
       "                                n_jobs=1, verbose=False)</pre><b>In a Jupyter environment, please rerun this cell to show the HTML representation or trust the notebook. <br />On GitHub, the HTML representation is unable to render, please try loading this page with nbviewer.org.</b></div><div class=\"sk-container\" hidden><div class=\"sk-item\"><div class=\"sk-estimator sk-toggleable\"><input class=\"sk-toggleable__control sk-hidden--visually\" id=\"sk-estimator-id-1\" type=\"checkbox\" checked><label for=\"sk-estimator-id-1\" class=\"sk-toggleable__label sk-toggleable__label-arrow\">MolTreeDecompositionTransformer</label><div class=\"sk-toggleable__content\"><pre>MolTreeDecompositionTransformer(featurizer=&lt;molfeat.calc.tree.TreeDecomposer object at 0x1794cead0&gt;,\n",
       "                                n_jobs=1, verbose=False)</pre></div></div></div></div></div>"
      ],
      "text/plain": [
       "MolTreeDecompositionTransformer(featurizer=<molfeat.calc.tree.TreeDecomposer object at 0x1794cead0>,\n",
       "                                n_jobs=1, verbose=False)"
      ]
     },
     "execution_count": 32,
     "metadata": {},
     "output_type": "execute_result"
    }
   ],
   "source": [
    "tree_trans = MolTreeDecompositionTransformer()\n",
    "tree_trans.fit([smi])"
   ]
  },
  {
   "cell_type": "code",
   "execution_count": 33,
   "metadata": {},
   "outputs": [
    {
     "data": {
      "text/plain": [
       "Graph(num_nodes=7, num_edges=12,\n",
       "      ndata_schemes={'hv': Scheme(shape=(), dtype=torch.int64)}\n",
       "      edata_schemes={})"
      ]
     },
     "execution_count": 33,
     "metadata": {},
     "output_type": "execute_result"
    }
   ],
   "source": [
    "features = tree_trans(smi)\n",
    "features[0]"
   ]
  }
 ],
 "metadata": {
  "interpreter": {
   "hash": "4c96cf3fad8b1d12df3e2b8c5ffc5fe9bd56815b225365ae05bb8eb0616dbb51"
  },
  "kernelspec": {
   "display_name": "Python 3.7.10 64-bit (conda)",
   "name": "python3"
  },
  "language_info": {
   "codemirror_mode": {
    "name": "ipython",
    "version": 3
   },
   "file_extension": ".py",
   "mimetype": "text/x-python",
   "name": "python",
   "nbconvert_exporter": "python",
   "pygments_lexer": "ipython3",
   "version": "3.10.9"
  }
 },
 "nbformat": 4,
 "nbformat_minor": 4
}
