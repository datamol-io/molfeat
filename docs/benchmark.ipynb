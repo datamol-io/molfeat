{
 "cells": [
  {
   "cell_type": "code",
   "execution_count": 1,
   "metadata": {},
   "outputs": [],
   "source": [
    "%load_ext autoreload\n",
    "%autoreload 2"
   ]
  },
  {
   "attachments": {},
   "cell_type": "markdown",
   "metadata": {},
   "source": [
    "Unlike many other machine learning domains, molecular featurization (i.e. the process of transforming a molecule into a vector) lacks a consistently good default. \n",
    "It is still an open question how to best capture the complexity of molecular data with a unified representation. Which molecular representation works best depends largely on which task you are modeling. To achieve optimal performance, it is wise to experiment with a variety of featurization schemes, from structural fingerprints to physicochemical descriptors and pre-trained embeddings.\n",
    "\n",
    "\n",
    "\n",
    "## Use cases\n",
    "\n",
    "Molecular representations / featurizers are an integral part of any molecular modelling workflow and are commonly used for:\n",
    "\n",
    "- Search - to find molecules with similar electronic properties, similar structures, or similar biological activity for a target.\n",
    "- Clustering - to group molecules based on their features and derive hypotheses around the relationship between structure and activity\n",
    "- Modeling - to build QSAR model for molecular property/activity prediction\n",
    "\n",
    "## Importance of the choice of molecular representation\n",
    "\n",
    "To demonstrate the impact a featurizer can have, we establish two simple benchmarks:\n",
    "1. To demonstrate the impact on modeling, we will use two datasets from [MoleculeNet](https://moleculenet.org/datasets-1) [1].\n",
    "2. To demonstrate the impact on search, we will use the [RDKit Benchmarking Platform](https://github.com/rdkit/benchmarking_platform) [2, 3].\n",
    "\n",
    "We will compare the performance of three different featurizers:\n",
    "- **ECFP6** [4]: Binary, circular fingerprints where each bit indicates the presence of particular substructures of a radius up to 3 bonds away from an atom.\n",
    "- **Mordred** [5]: Continuous descriptors with more than 1800 2D and 3D descriptors.\n",
    "- **ChemBERTa** [6]: Learned representations from a pre-trained SMILES transformer model.\n",
    "\n",
    "\n",
    "<div class=\"admonition tip highlight\">\n",
    "<p class=\"admonition-title\">Tl;dr - Importance of molecular representation</p>\n",
    "<p>\n",
    "No featurizer consistently stood out for either task or even within a task category:\n",
    "\n",
    "- **Modeling:**  The Mordred featurizer outperforms the next best featurizer by ~20% on the _Lipophilicity_ prediction task. On _ClinTox_, however, things are reversed and ChemBERTa outperforms the other featurizers by ~about 18%. \n",
    "\n",
    "- **Search**: ECFP outperforms ChemBERTa and Mordred and is the best option across the board, although it's target dependent.\n",
    "    \n",
    "These quick examples show the context-dependent nature and thus the importance of experimenting with trying different featurizers. **In short, the perfect molecular featurizer doesn’t exist (yet!)**. All have their pros and cons depending on the data and the downstream task.\n",
    "</p>\n",
    "</div>\n",
    "\n",
    "\n",
    "### Modeling\n",
    "We will compare the performance on two datasets using scikit-learn [AutoML](https://github.com/automl/auto-sklearn) [7, 8] models."
   ]
  },
  {
   "cell_type": "code",
   "execution_count": null,
   "metadata": {},
   "outputs": [],
   "source": [
    "! pip install autosklearn"
   ]
  },
  {
   "cell_type": "code",
   "execution_count": 2,
   "metadata": {},
   "outputs": [],
   "source": [
    "import os\n",
    "import tqdm\n",
    "import fsspec\n",
    "import pickle\n",
    "import warnings\n",
    "import numpy as np\n",
    "import pandas as pd\n",
    "import datamol as dm\n",
    "import matplotlib.pyplot as plt\n",
    "import autosklearn.classification\n",
    "import autosklearn.regression\n",
    "from collections import defaultdict\n",
    "from rdkit.Chem import SaltRemover\n",
    "\n",
    "from sklearn.metrics import mean_absolute_error, roc_auc_score\n",
    "from sklearn.model_selection import GroupShuffleSplit\n",
    "from sklearn.neighbors import KNeighborsClassifier\n",
    "\n",
    "from molfeat.trans.fp import FPVecTransformer\n",
    "from molfeat.trans.pretrained.hf_transformers import PretrainedHFTransformer"
   ]
  },
  {
   "cell_type": "code",
   "execution_count": 3,
   "metadata": {},
   "outputs": [],
   "source": [
    "# Making the output less verbose\n",
    "warnings.simplefilter(\"ignore\")\n",
    "os.environ[\"PYTHONWARNINGS\"] = \"ignore\"\n",
    "os.environ[\"TOKENIZERS_PARALLELISM\"] = \"false\"\n",
    "dm.disable_rdkit_log()"
   ]
  },
  {
   "cell_type": "code",
   "execution_count": 4,
   "metadata": {},
   "outputs": [],
   "source": [
    "def load_dataset(uri: str, readout_col: str):\n",
    "    \"\"\"Loads the MoleculeNet dataset\"\"\"\n",
    "    df = pd.read_csv(uri)\n",
    "    smiles = df[\"smiles\"].values\n",
    "    y = df[readout_col].values\n",
    "    return smiles, y\n",
    "\n",
    "\n",
    "def preprocess_smiles(smi):\n",
    "    \"\"\"Preprocesses the SMILES string\"\"\"\n",
    "    mol = dm.to_mol(smi, ordered=True, sanitize=False)    \n",
    "    try: \n",
    "        mol = dm.sanitize_mol(mol)\n",
    "    except:\n",
    "        mol = None\n",
    "            \n",
    "    if mol is None: \n",
    "        return\n",
    "        \n",
    "    mol = dm.standardize_mol(mol, disconnect_metals=True)\n",
    "    remover = SaltRemover.SaltRemover()\n",
    "    mol = remover.StripMol(mol, dontRemoveEverything=True)\n",
    "\n",
    "    return dm.to_smiles(mol)\n",
    "\n",
    "\n",
    "def scaffold_split(smiles):\n",
    "    \"\"\"In line with common practice, we will use the scaffold split to evaluate our models\"\"\"\n",
    "    scaffolds = [dm.to_smiles(dm.to_scaffold_murcko(dm.to_mol(smi))) for smi in smiles]\n",
    "    splitter = GroupShuffleSplit(n_splits=1, test_size=0.2, random_state=42)\n",
    "    return next(splitter.split(smiles, groups=scaffolds))\n"
   ]
  },
  {
   "cell_type": "code",
   "execution_count": 5,
   "metadata": {
    "scrolled": true
   },
   "outputs": [],
   "source": [
    "# Setup the featurizers\n",
    "trans_ecfp = FPVecTransformer(kind=\"ecfp:6\", n_jobs=-1)\n",
    "trans_mordred = FPVecTransformer(kind=\"mordred\", replace_nan=True, n_jobs=-1)\n",
    "trans_chemberta = PretrainedHFTransformer(kind='ChemBERTa-77M-MLM', notation='smiles')"
   ]
  },
  {
   "cell_type": "markdown",
   "metadata": {},
   "source": [
    "#### Lipophilicity\n",
    "Lipophilicity is a regression task with 4200 molecules"
   ]
  },
  {
   "cell_type": "code",
   "execution_count": 6,
   "metadata": {},
   "outputs": [],
   "source": [
    "# Prepare the Lipophilicity dataset\n",
    "smiles, y_true = load_dataset(\"https://deepchemdata.s3-us-west-1.amazonaws.com/datasets/Lipophilicity.csv\", \"exp\")\n",
    "smiles = np.array([preprocess_smiles(smi) for smi in smiles])\n",
    "smiles = np.array([smi for smi in smiles if dm.to_mol(smi) is not None])\n",
    "\n",
    "feats_ecfp, ind_ecfp = trans_ecfp(smiles, ignore_errors=True)\n",
    "feats_mordred, ind_mordred = trans_mordred(smiles, ignore_errors=True)\n",
    "feats_chemberta, ind_chemberta = trans_chemberta(smiles, ignore_errors=True)\n",
    "\n",
    "X = {\n",
    "    \"ECFP\": feats_ecfp[ind_ecfp],\n",
    "    \"Mordred\": feats_mordred[ind_mordred],\n",
    "    \"ChemBERTa\": feats_chemberta[ind_chemberta],\n",
    "}"
   ]
  },
  {
   "cell_type": "code",
   "execution_count": 7,
   "metadata": {
    "scrolled": false
   },
   "outputs": [
    {
     "name": "stdout",
     "output_type": "stream",
     "text": [
      "[WARNING] [2023-03-27 11:14:52,884:Client-EnsembleBuilder] No runs were available to build an ensemble from\n",
      "[WARNING] [2023-03-27 11:15:09,140:Client-EnsembleBuilder] No runs were available to build an ensemble from\n",
      "[WARNING] [2023-03-27 11:15:10,575:Client-EnsembleBuilder] No runs were available to build an ensemble from\n",
      "[WARNING] [2023-03-27 11:17:53,162:Client-EnsembleBuilder] No runs were available to build an ensemble from\n",
      "[WARNING] [2023-03-27 11:17:55,897:Client-EnsembleBuilder] No runs were available to build an ensemble from\n",
      "[WARNING] [2023-03-27 11:18:08,224:Client-EnsembleBuilder] No runs were available to build an ensemble from\n",
      "[WARNING] [2023-03-27 11:20:48,340:Client-EnsembleBuilder] No runs were available to build an ensemble from\n",
      "[WARNING] [2023-03-27 11:20:53,717:Client-EnsembleBuilder] No runs were available to build an ensemble from\n",
      "[WARNING] [2023-03-27 11:20:54,100:Client-EnsembleBuilder] No runs were available to build an ensemble from\n"
     ]
    },
    {
     "data": {
      "text/plain": [
       "{'ECFP': 0.72650517992544,\n",
       " 'Mordred': 0.5792950477372836,\n",
       " 'ChemBERTa': 0.7396155151199458}"
      ]
     },
     "execution_count": 7,
     "metadata": {},
     "output_type": "execute_result"
    }
   ],
   "source": [
    "# Train a model\n",
    "train_ind, test_ind = scaffold_split(smiles)\n",
    "\n",
    "lipo_scores = {}\n",
    "for name, feats in X.items():\n",
    "    \n",
    "    # Train\n",
    "    automl = autosklearn.regression.AutoSklearnRegressor(\n",
    "        memory_limit=24576, \n",
    "        # For practicality’s sake, limit this to 5 minutes! \n",
    "        # (x3 = 15 min in total)\n",
    "        time_left_for_this_task=180,  \n",
    "        n_jobs=1,\n",
    "        seed=1,\n",
    "    )\n",
    "    automl.fit(feats[train_ind], y_true[train_ind])\n",
    "    \n",
    "    # Predict and evaluate\n",
    "    y_hat = automl.predict(feats[test_ind])\n",
    "    \n",
    "    # Evaluate\n",
    "    mae = mean_absolute_error(y_true[test_ind], y_hat)\n",
    "    lipo_scores[name] = mae\n",
    "\n",
    "lipo_scores"
   ]
  },
  {
   "cell_type": "markdown",
   "metadata": {},
   "source": [
    "#### ClinTox"
   ]
  },
  {
   "cell_type": "code",
   "execution_count": 8,
   "metadata": {
    "scrolled": false
   },
   "outputs": [
    {
     "name": "stderr",
     "output_type": "stream",
     "text": [
      "[11:23:45] Unusual charge on atom 0 number of radical electrons set to zero\n",
      "[11:23:46] Unusual charge on atom 0 number of radical electrons set to zero\n",
      "[11:23:47] Unusual charge on atom 0 number of radical electrons set to zero\n",
      "[11:23:47] Unusual charge on atom 0 number of radical electrons set to zero\n",
      "[11:23:47] Unusual charge on atom 0 number of radical electrons set to zero\n"
     ]
    }
   ],
   "source": [
    "# Prepare the ClinTox dataset\n",
    "smiles, y_true = load_dataset(\"https://deepchemdata.s3-us-west-1.amazonaws.com/datasets/clintox.csv.gz\", \"CT_TOX\")\n",
    "smiles = np.array([preprocess_smiles(smi) for smi in smiles])\n",
    "smiles = np.array([smi for smi in smiles if smi is not None])\n",
    "\n",
    "feats_ecfp, ind_ecfp = trans_ecfp(smiles, ignore_errors=True)\n",
    "feats_mordred, ind_mordred = trans_mordred(smiles, ignore_errors=True)\n",
    "feats_chemberta, ind_chemberta = trans_chemberta(smiles, ignore_errors=True)\n",
    "\n",
    "X = {\n",
    "    \"ECFP\": feats_ecfp[ind_ecfp],\n",
    "    \"Mordred\": feats_mordred[ind_mordred],\n",
    "    \"ChemBERTa\": feats_chemberta[ind_chemberta],\n",
    "}"
   ]
  },
  {
   "cell_type": "code",
   "execution_count": 9,
   "metadata": {
    "scrolled": true
   },
   "outputs": [
    {
     "name": "stdout",
     "output_type": "stream",
     "text": [
      "[WARNING] [2023-03-27 11:30:21,940:Client-EnsembleBuilder] No models better than random - using Dummy losses!\n",
      "\tModels besides current dummy model: 0\n",
      "\tDummy models: 1\n",
      "[WARNING] [2023-03-27 11:30:38,533:Client-EnsembleBuilder] No models better than random - using Dummy losses!\n",
      "\tModels besides current dummy model: 0\n",
      "\tDummy models: 1\n"
     ]
    },
    {
     "data": {
      "text/plain": [
       "{'ECFP': 0.5345833333333333, 'Mordred': 0.5633333333333334, 'ChemBERTa': 0.665}"
      ]
     },
     "execution_count": 9,
     "metadata": {},
     "output_type": "execute_result"
    }
   ],
   "source": [
    "# Train a model\n",
    "train_ind, test_ind = scaffold_split(smiles)\n",
    "\n",
    "clintox_scores = {}\n",
    "for name, feats in X.items():\n",
    "    \n",
    "    # Train\n",
    "    automl = autosklearn.classification.AutoSklearnClassifier(\n",
    "        memory_limit=24576, \n",
    "        # For practicality’s sake, limit this to 5 minutes! \n",
    "        # (x3 = 15 min in total)\n",
    "        time_left_for_this_task=180,\n",
    "        n_jobs=1,\n",
    "        seed=1,\n",
    "    )\n",
    "    automl.fit(feats[train_ind], y_true[train_ind])\n",
    "    \n",
    "    # Predict and evaluate\n",
    "    y_hat = automl.predict_proba(feats[test_ind])\n",
    "    y_hat = y_hat[:, 1]\n",
    "    \n",
    "    # Evaluate\n",
    "    auroc = roc_auc_score(y_true[test_ind], y_hat)\n",
    "    clintox_scores[name] = auroc\n",
    "\n",
    "clintox_scores"
   ]
  },
  {
   "attachments": {},
   "cell_type": "markdown",
   "metadata": {},
   "source": [
    "#### Conclusion\n",
    "\n",
    "| Dataset       | Metric   | Representation | Score | Rank |\n",
    "|---------------|----------|----------------|-------|------|\n",
    "| Lipophilicity | MAE ↓    | ECFP           | 0.727  | 1    |\n",
    "|               |          | Mordred        | 0.579  | 0    |\n",
    "|               |          | ChemBERTa      | 0.740  | 2    |\n",
    "| ClinTox       | AUROC ↑  | ECFP           | 0.535  | 2    |\n",
    "|               |          | Mordred        | 0.563  | 1    |\n",
    "|               |          | ChemBERTa      | 0.665  | 0    |\n",
    "\n",
    "We can see that for Lipophilicity, the Mordred featurizer proves most powerful, outperforming the next best featurizer by ~20%. For ClinTox, however, the results are reversed and it's instead ChemBERTa that outperforms the other featurizers by ~18%. This shows the importance of trying different featurizers. Luckily, with Molfeat, this is now much easier to do!"
   ]
  },
  {
   "attachments": {},
   "cell_type": "markdown",
   "metadata": {},
   "source": [
    "### Search\n",
    "We will now evaluate the performance of the featurizers on various search tasks from the RDKit Benchmarking Platform [2, 3]."
   ]
  },
  {
   "cell_type": "code",
   "execution_count": 10,
   "metadata": {},
   "outputs": [],
   "source": [
    "# Specify some meta-data\n",
    "\n",
    "BASE_CMPD_URI = \"https://github.com/rdkit/benchmarking_platform/raw/master/compounds/DUD/cmp_list_DUD\"\n",
    "CMPD_EXT = \".dat.gz\"\n",
    "\n",
    "BASE_SPLIT_URI = \"https://github.com/rdkit/benchmarking_platform/raw/master/query_lists/data_sets_I/DUD/training_DUD\"\n",
    "SPLIT_EXT = \".pkl\"\n",
    "\n",
    "# Out of practicality, we only use the first 10 targets\n",
    "TARGETS = [\n",
    "    \"ace\",\n",
    "    \"ache\",\n",
    "    \"ar\",\n",
    "    \"cdk2\",\n",
    "    \"cox2\",\n",
    "    \"dhfr\",\n",
    "    \"egfr\",\n",
    "    \"er_agonist\",\n",
    "    \"fgfr1\",\n",
    "    \"fxa\",\n",
    "]"
   ]
  },
  {
   "cell_type": "code",
   "execution_count": 11,
   "metadata": {},
   "outputs": [],
   "source": [
    "def get_compounds_for_target(target: str):\n",
    "    \"\"\"Loads the structural data\"\"\"\n",
    "    df = pd.DataFrame()\n",
    "    for subset in [\"actives\", \"decoys\"]:\n",
    "        df_ = pd.read_csv(f\"{BASE_CMPD_URI}_{target}_{subset}{CMPD_EXT}\", sep=\"\\t\")\n",
    "        df_[\"subset\"] = subset\n",
    "        df_[\"target\"] = 1 if subset == \"actives\" else 0\n",
    "        df = pd.concat([df, df_])\n",
    "    return df\n",
    "\n",
    "\n",
    "def get_train_decoy_split_for_target(target: str, no_of_actives: int = 20):\n",
    "    \"\"\"Loads the proposed split of the benchmark\"\"\"\n",
    "    with fsspec.open(f\"{BASE_SPLIT_URI}_{target}_{no_of_actives}{SPLIT_EXT}\", \"rb\") as fd:\n",
    "        data = pickle.load(fd)\n",
    "    return data[:no_of_actives], data[no_of_actives:]"
   ]
  },
  {
   "cell_type": "code",
   "execution_count": 12,
   "metadata": {
    "collapsed": true,
    "pycharm": {
     "is_executing": true
    }
   },
   "outputs": [
    {
     "name": "stderr",
     "output_type": "stream",
     "text": [
      " 30%|██████████████████████████████████████████████████████████▏                                                                                                                                       | 3/10 [02:39<06:23, 54.78s/it][11:35:54] Explicit valence for atom # 1 C greater than permitted\n",
      " 40%|█████████████████████████████████████████████████████████████████████████████▌                                                                                                                    | 4/10 [03:17<04:49, 48.17s/it][11:36:34] Explicit valence for atom # 6 C greater than permitted\n",
      " 90%|█████████████████████████████████████████████████████████████████████████████████████████████████████████████████████████████████████████████████████████████████████████████▋                   | 9/10 [16:00<01:53, 113.93s/it][11:49:14] Explicit valence for atom # 1 C greater than permitted\n",
      "[11:49:14] Explicit valence for atom # 1 C greater than permitted\n",
      "[11:49:14] Explicit valence for atom # 20 C greater than permitted\n",
      "[11:49:14] Explicit valence for atom # 19 C greater than permitted\n",
      "[11:49:14] Explicit valence for atom # 1 C greater than permitted\n",
      "[11:49:14] Explicit valence for atom # 20 C greater than permitted\n",
      "[11:49:14] Explicit valence for atom # 11 C greater than permitted\n",
      "[11:49:15] Explicit valence for atom # 20 C greater than permitted\n",
      "[11:49:15] Explicit valence for atom # 1 C greater than permitted\n",
      "[11:49:15] Explicit valence for atom # 20 C greater than permitted\n",
      "[11:49:15] Explicit valence for atom # 19 C greater than permitted\n",
      "[11:49:15] Explicit valence for atom # 21 C greater than permitted\n",
      "[11:49:15] Explicit valence for atom # 18 C greater than permitted\n",
      "[11:49:15] Explicit valence for atom # 23 C greater than permitted\n",
      "[11:49:15] Explicit valence for atom # 1 C greater than permitted\n",
      "[11:49:15] Explicit valence for atom # 1 C greater than permitted\n",
      "[11:49:15] Explicit valence for atom # 1 C greater than permitted\n",
      "[11:49:15] Explicit valence for atom # 1 C greater than permitted\n",
      "[11:49:15] Explicit valence for atom # 20 C greater than permitted\n",
      "[11:49:15] Explicit valence for atom # 25 C greater than permitted\n",
      "[11:49:15] Explicit valence for atom # 27 C greater than permitted\n",
      "[11:49:15] Explicit valence for atom # 24 C greater than permitted\n",
      "[11:49:15] Explicit valence for atom # 1 C greater than permitted\n",
      "[11:49:15] Explicit valence for atom # 1 C greater than permitted\n",
      "[11:49:15] Explicit valence for atom # 26 C greater than permitted\n",
      "[11:49:15] Explicit valence for atom # 1 C greater than permitted\n",
      "[11:49:15] Explicit valence for atom # 1 C greater than permitted\n",
      "[11:49:15] Explicit valence for atom # 28 C greater than permitted\n",
      "[11:49:15] Explicit valence for atom # 27 C greater than permitted\n",
      "[11:49:15] Explicit valence for atom # 1 C greater than permitted\n",
      "[11:49:15] Explicit valence for atom # 1 C greater than permitted\n",
      "[11:49:15] Explicit valence for atom # 1 C greater than permitted\n",
      "[11:49:15] Explicit valence for atom # 26 C greater than permitted\n",
      "[11:49:15] Explicit valence for atom # 28 C greater than permitted\n",
      "[11:49:15] Explicit valence for atom # 1 C greater than permitted\n",
      "[11:49:15] Explicit valence for atom # 18 C greater than permitted\n",
      "[11:49:15] Explicit valence for atom # 17 C greater than permitted\n",
      "[11:49:15] Explicit valence for atom # 17 C greater than permitted\n",
      "[11:49:15] Explicit valence for atom # 29 C greater than permitted\n",
      "[11:49:15] Explicit valence for atom # 1 C greater than permitted\n",
      "[11:49:15] Explicit valence for atom # 1 C greater than permitted\n",
      "[11:49:15] [11:49:15] Explicit valence for atom # 1 C greater than permitted\n",
      "Explicit valence for atom # 18 C greater than permitted\n",
      "[11:49:15] Explicit valence for atom # 26 C greater than permitted\n",
      "[11:49:15] Explicit valence for atom # 1 C greater than permitted\n",
      "[11:49:15] Explicit valence for atom # 25 C greater than permitted\n",
      "[11:49:15] Explicit valence for atom # 25 C greater than permitted\n",
      "[11:49:15] Explicit valence for atom # 1 C greater than permitted\n",
      "[11:49:15] Explicit valence for atom # 29 C greater than permitted\n",
      "[11:49:15] Explicit valence for atom # 1 C greater than permitted\n",
      "[11:49:15] Explicit valence for atom # 1 C greater than permitted\n",
      "[11:49:15] Explicit valence for atom # 1 C greater than permitted\n",
      "[11:49:16] Explicit valence for atom # 25 C greater than permitted\n",
      "[11:49:16] Explicit valence for atom # 25 C greater than permitted\n",
      "[11:49:16] Explicit valence for atom # 24 C greater than permitted\n",
      "[11:49:16] Explicit valence for atom # 1 C greater than permitted\n",
      "[11:49:16] Explicit valence for atom # 1 C greater than permitted\n",
      "[11:49:16] Explicit valence for atom # 1 C greater than permitted\n",
      "                                                                                                                                                                                                                                      \r"
     ]
    }
   ],
   "source": [
    "results = defaultdict(dict)\n",
    "\n",
    "for target in tqdm.tqdm(TARGETS, leave=False):\n",
    "\n",
    "    # Load the structures (i.e. SMILES)\n",
    "    df = get_compounds_for_target(target)\n",
    "    n_actives = len(df[df[\"subset\"] == \"actives\"])\n",
    "\n",
    "    smiles = df[\"SMILES\"].values\n",
    "    smiles = np.array([smi for smi in smiles if dm.to_mol(smi) is not None])\n",
    "\n",
    "    # Featurize\n",
    "    feats_ecfp, ind_ecfp = trans_ecfp(smiles, ignore_errors=True)\n",
    "    feats_mordred, ind_mordred = trans_mordred(smiles, ignore_errors=True)\n",
    "    feats_chemberta, ind_chemberta = trans_chemberta(smiles, ignore_errors=True)\n",
    "\n",
    "    X = {\n",
    "        \"ECFP\": feats_ecfp[ind_ecfp],\n",
    "        \"Mordred\": feats_mordred[ind_mordred],\n",
    "        \"ChemBERTa\": feats_chemberta[ind_chemberta],\n",
    "    }\n",
    "\n",
    "    # Get the train-test split\n",
    "    train_active_ind, train_decoy_ind = get_train_decoy_split_for_target(target, no_of_actives=20)\n",
    "    train_decoy_ind = [i + n_actives for i in train_decoy_ind]\n",
    "\n",
    "    for feat_name, feats in X.items():\n",
    "\n",
    "        # Train the model\n",
    "        knn = KNeighborsClassifier()\n",
    "        train_ind = np.concatenate([train_active_ind, train_decoy_ind])\n",
    "        test_ind = np.array([i for i in range(len(df)) if i not in train_ind])\n",
    "        knn.fit(feats[train_ind], df.iloc[train_ind][\"target\"].values)\n",
    "\n",
    "        # Get targets and predictions\n",
    "        y_true = df.iloc[test_ind][\"target\"].values\n",
    "        y_pred = knn.predict_proba(feats[test_ind])[:, 1]\n",
    "\n",
    "        # Compute the recovery score\n",
    "        auc = roc_auc_score(y_true, y_pred)\n",
    "        results[feat_name][target] = auc"
   ]
  },
  {
   "cell_type": "code",
   "execution_count": 13,
   "metadata": {
    "pycharm": {
     "is_executing": true
    }
   },
   "outputs": [
    {
     "data": {
      "text/plain": [
       "<matplotlib.legend.Legend at 0x7fc9a7e6f220>"
      ]
     },
     "execution_count": 13,
     "metadata": {},
     "output_type": "execute_result"
    },
    {
     "data": {
      "image/png": "[encoded data removed]",
      "text/plain": [
       "<Figure size 1000x600 with 1 Axes>"
      ]
     },
     "metadata": {},
     "output_type": "display_data"
    }
   ],
   "source": [
    "# Replicate the figure from https://doi.org/10.1021/ci400466r\n",
    "\n",
    "xs = list(range(len(TARGETS)))\n",
    "\n",
    "ecfp_scores = [results[\"ECFP\"][target] for target in TARGETS]\n",
    "mordred_scores = [results[\"Mordred\"][target] for target in TARGETS]\n",
    "chemberta_scores = [results[\"ChemBERTa\"][target] for target in TARGETS]\n",
    "\n",
    "fig, ax = plt.subplots(figsize=(10, 6))\n",
    "for scores, label in zip([ecfp_scores, mordred_scores, chemberta_scores], [\"ECFP\", \"Mordred\", \"ChemBERTa\"]):\n",
    "    ax.plot(xs, scores, label=label)\n",
    "\n",
    "ax.set_xlabel(\"Target\")\n",
    "ax.set_ylabel(\"AUC\")\n",
    "ax.set_xticks(xs)\n",
    "ax.set_xticklabels(TARGETS, rotation=90)\n",
    "ax.legend()"
   ]
  },
  {
   "attachments": {},
   "cell_type": "markdown",
   "metadata": {},
   "source": [
    "#### Conclusion\n",
    "For search, we observe yet again another ranking. It now seems that ECFP is the best option across the board, although it's target dependent. \n",
    "\n",
    "\n",
    "<div class=\"admonition info highlight\">\n",
    "<p class=\"admonition-title\">Conclusion</p>\n",
    "<p>\n",
    "<b>There is no single \"best\" molecular featurizer.</b> With Molfeat, it is now easier than ever to experiment with a diverse set of popular featurizers to ensure you pick the best one for your task of interest!\n",
    "</p>\n",
    "</div>\n",
    "\n",
    "\n",
    "## Citations\n",
    "1. Wu, Z., Ramsundar, B., Feinberg, E. N., Gomes, J., Geniesse, C., Pappu, A. S., ... & Pande, V. (2018). MoleculeNet: a benchmark for molecular machine learning. Chemical science, 9(2), 513-530.\n",
    "2. Riniker, S., Fechner, N., & Landrum, G. A. (2013). Heterogeneous classifier fusion for ligand-based virtual screening: or, how decision making by committee can be a good thing. Journal of chemical information and modeling, 53(11), 2829-2836.\n",
    "3. Riniker, S., & Landrum, G. A. (2013). Open-source platform to benchmark fingerprints for ligand-based virtual screening. Journal of cheminformatics, 5(1), 26.\n",
    "4. Rogers, D., & Hahn, M. (2010). Extended-connectivity fingerprints. Journal of chemical information and modeling, 50(5), 742-754.\n",
    "5. Moriwaki, H., Tian, Y. S., Kawashita, N., & Takagi, T. (2018). Mordred: a molecular descriptor calculator. Journal of cheminformatics, 10(1), 1-14.\n",
    "6. Chithrananda, S., Grand, G., & Ramsundar, B. (2020). Chemberta: Large-scale self-supervised pretraining for molecular property prediction. arXiv preprint arXiv:2010.09885.\n",
    "7. Efficient and Robust Automated Machine Learning Matthias Feurer, Aaron Klein, Katharina Eggensperger, Jost Springenberg, Manuel Blum and Frank Hutter Advances in Neural Information Processing Systems 28 (2015)\n",
    "8. Auto-Sklearn 2.0: The Next Generation Matthias Feurer, Katharina Eggensperger, Stefan Falkner, Marius Lindauer and Frank Hutter* arXiv:2007.04074 [cs.LG], 2020\n"
   ]
  }
 ],
 "metadata": {
  "kernelspec": {
   "display_name": "Python 3 (ipykernel)",
   "language": "python",
   "name": "python3"
  },
  "language_info": {
   "codemirror_mode": {
    "name": "ipython",
    "version": 3
   },
   "file_extension": ".py",
   "mimetype": "text/x-python",
   "name": "python",
   "nbconvert_exporter": "python",
   "pygments_lexer": "ipython3",
   "version": "3.9.16"
  },
  "vscode": {
   "interpreter": {
    "hash": "dd64925fe6617865d410306d2b64fa69b44b63a36aad85fd11f7d4e4dc7609f3"
   }
  }
 },
 "nbformat": 4,
 "nbformat_minor": 4
}
