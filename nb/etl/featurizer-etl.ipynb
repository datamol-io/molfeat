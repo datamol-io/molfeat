{
 "cells": [
  {
   "cell_type": "code",
   "execution_count": 1,
   "metadata": {},
   "outputs": [],
   "source": [
    "%load_ext autoreload\n",
    "%autoreload 2"
   ]
  },
  {
   "cell_type": "code",
   "execution_count": 2,
   "metadata": {},
   "outputs": [],
   "source": [
    "from molfeat.store import ModelInfo\n",
    "from molfeat.store import ModelStore"
   ]
  },
  {
   "cell_type": "code",
   "execution_count": 3,
   "metadata": {},
   "outputs": [],
   "source": [
    "store = ModelStore()\n"
   ]
  },
  {
   "cell_type": "code",
   "execution_count": 4,
   "metadata": {},
   "outputs": [
    {
     "data": {
      "text/plain": [
       "[ModelInfo(name='gin_supervised_contextpred', inputs='smiles', type='pretrained', version=0, group='dgllife', submitter='Datamol', description='GIN neural network model pre-trained with supervised learning and context prediction on molecules from ChEMBL.', representation='graph', require_3D=False, tags=['GIN', 'dgl', 'pytorch', 'graph'], authors=['Weihua Hu', 'Bowen Liu', 'Joseph Gomes', 'Marinka Zitnik', 'Percy Liang', 'Vijay Pande', 'Jure Leskovec'], reference='https://arxiv.org/abs/1905.12265', created_at=datetime.datetime(2023, 2, 2, 19, 51, 17, 228390), sha256sum='72dc062936b78b515ed5d0989f909ab7612496d698415d73826b974c9171504a'),\n",
       " ModelInfo(name='gin_supervised_edgepred', inputs='smiles', type='pretrained', version=0, group='dgllife', submitter='Datamol', description='GIN neural network model pre-trained with supervised learning and edge prediction on molecules from ChEMBL.', representation='graph', require_3D=False, tags=['GIN', 'dgl', 'pytorch', 'graph'], authors=['Weihua Hu', 'Bowen Liu', 'Joseph Gomes', 'Marinka Zitnik', 'Percy Liang', 'Vijay Pande', 'Jure Leskovec'], reference='https://arxiv.org/abs/1905.12265', created_at=datetime.datetime(2023, 2, 14, 17, 42, 4, 710823), sha256sum='c1198b37239c3b733f5b48cf265af4c3a1e8c448e2e26cb53e3517fd096213de'),\n",
       " ModelInfo(name='gin_supervised_infomax', inputs='smiles', type='pretrained', version=0, group='dgllife', submitter='Datamol', description='GIN neural network model pre-trained with mutual information maximisation on molecules from ChEMBL.', representation='graph', require_3D=False, tags=['GIN', 'dgl', 'pytorch', 'graph'], authors=['Weihua Hu', 'Bowen Liu', 'Joseph Gomes', 'Marinka Zitnik', 'Percy Liang', 'Vijay Pande', 'Jure Leskovec'], reference='https://arxiv.org/abs/1905.12265', created_at=datetime.datetime(2023, 2, 14, 17, 42, 6, 967631), sha256sum='78dc0f76cde2151f5aa403cbbffead0f24aeac4ce0b48dbfa2689e1a87b95216'),\n",
       " ModelInfo(name='gin_supervised_masking', inputs='smiles', type='pretrained', version=0, group='dgllife', submitter='Datamol', description='GIN neural network model pre-trained with masked modelling on molecules from ChEMBL.', representation='graph', require_3D=False, tags=['GIN', 'dgl', 'pytorch', 'graph'], authors=['Weihua Hu', 'Bowen Liu', 'Joseph Gomes', 'Marinka Zitnik', 'Percy Liang', 'Vijay Pande', 'Jure Leskovec'], reference='https://arxiv.org/abs/1905.12265', created_at=datetime.datetime(2023, 2, 14, 17, 42, 9, 221083), sha256sum='c1c797e18312ad44ff089159cb1ed79fd4c67b3d5673c562f61621d95a5d7632'),\n",
       " ModelInfo(name='jtvae_zinc_no_kl', inputs='smiles', type='pretrained', version=0, group='dgllife', submitter='Datamol', description='A JTVAE pre-trained on ZINC for molecule generation, without KL regularization', representation='other', require_3D=False, tags=['JTNN', 'JTVAE', 'dgl', 'pytorch', 'junction-tree', 'graph'], authors=['Wengong Jin', 'Regina Barzilay', 'Tommi Jaakkola'], reference='https://arxiv.org/abs/1802.04364v4', created_at=datetime.datetime(2023, 2, 2, 19, 51, 20, 468939), sha256sum='eab8ecb8a7542a8cdf97410cb27f72aaf374fefef6a1f53642cc5b310cf2b7f6'),\n",
       " ModelInfo(name='map4', inputs='smiles', type='hashed', version=0, group='fp', submitter='Datamol', description='MinHashed atom-pair fingerprint up to a diameter of four bonds (MAP4) is suitable for both small and large molecules by combining substructure and atom-pair concepts. In this fingerprint the circular substructures with radii of r\\u2009=\\u20091 and r\\u2009=\\u20092 bonds around each atom in an atom-pair are written as two pairs of SMILES, each pair being combined with the topological distance separating the two central atoms. These so-called atom-pair molecular shingles are hashed, and the resulting set of hashes is MinHashed to form the MAP4 fingerprint.', representation='vector', require_3D=False, tags=['minhashed', 'map4', 'atompair', 'substructure', 'morgan'], authors=['Alice Capecchi', 'Daniel Probst', 'Jean-Louis Reymond'], reference='https://doi.org/10.1186/s13321-020-00445-4', created_at=datetime.datetime(2023, 2, 16, 10, 29, 8, 550063), sha256sum='9c298d589a2158eb513cb52191144518a2acab2cb0c04f1df14fca0f712fa4a1'),\n",
       " ModelInfo(name='secfp', inputs='smiles', type='hashed', version=0, group='fp', submitter='Datamol', description='SMILES extended connectivity fingerprint (SECFP), is a fingerprint variant on MinHash fingerprints (MHFPs) SMILES-based circular substructure hashing scheme, folded by the same modulo \\ud835\\udc5b operation that is used by ECFP.', representation='vector', require_3D=False, tags=['minhashed', 'smiles', 'ecfp', 'secfp', 'mhfp', 'mhfp6'], authors=['Daniel Probst', 'Jean-Louis Reymond'], reference='https://doi.org/10.1186/s13321-018-0321-8', created_at=datetime.datetime(2023, 2, 16, 10, 29, 11, 465320), sha256sum='9c298d589a2158eb513cb52191144518a2acab2cb0c04f1df14fca0f712fa4a1'),\n",
       " ModelInfo(name='pcqm4mv2_graphormer_base', inputs='smiles', type='pretrained', version=0, group='graphormer', submitter='Datamol', description='Pretrained Graph Transformer on PCQM4Mv2 Homo-Lumo energy gap prediction using 2D molecular graphs.', representation='graph', require_3D=False, tags=['Graphormer', 'PCQM4Mv2', 'graph', 'pytorch', 'Microsoft'], authors=['Chengxuan Ying', 'Tianle Cai', 'Shengjie Luo', 'Shuxin Zheng', 'Guolin Ke', 'Di He', 'Yanming Shen', 'Tie-Yan Liu'], reference='https://arxiv.org/abs/2106.05234', created_at=datetime.datetime(2023, 2, 2, 19, 51, 19, 330147), sha256sum='9c298d589a2158eb513cb52191144518a2acab2cb0c04f1df14fca0f712fa4a1'),\n",
       " ModelInfo(name='ChemBERTa-77M-MLM', inputs='smiles', type='pretrained', version=0, group='huggingface', submitter='Datamol', description='ChemBERTa is a pre-trained language model for molecules based on (Ro)BERT(a) trained on PubChem compounds. The MTR version was pretrained using mutitask regression objective, while the MLM version was pretrained using a masked language modeling objective', representation='line-notation', require_3D=False, tags=['ChemBERTa-2', 'smiles', 'huggingface', 'transformers', 'MLM', 'RoBERTa', 'PubChem'], authors=['Walid Ahmad', 'Elana Simon', 'Seyone Chithrananda', 'Gabriel Grand', 'Bharath Ramsundar'], reference='https://arxiv.org/abs/2209.01712', created_at=datetime.datetime(2023, 3, 20, 15, 35, 11, 29680), sha256sum='e3b0c44298fc1c149afbf4c8996fb92427ae41e4649b934ca495991b7852b855'),\n",
       " ModelInfo(name='ChemBERTa-77M-MTR', inputs='smiles', type='pretrained', version=0, group='huggingface', submitter='Datamol', description='ChemBERTa is a pre-trained language model for molecules based on (Ro)BERT(a) trained on PubChem compounds. The MTR version was pretrained using mutitask regression objective, while the MLM version was pretrained using a masked language modeling objective', representation='line-notation', require_3D=False, tags=['ChemBERTa-2', 'smiles', 'huggingface', 'transformers', 'MTR', 'RoBERTa', 'PubChem'], authors=['Walid Ahmad', 'Elana Simon', 'Seyone Chithrananda', 'Gabriel Grand', 'Bharath Ramsundar'], reference='https://arxiv.org/abs/2209.01712', created_at=datetime.datetime(2023, 3, 20, 15, 35, 28, 532664), sha256sum='e3b0c44298fc1c149afbf4c8996fb92427ae41e4649b934ca495991b7852b855'),\n",
       " ModelInfo(name='ChemGPT-1.2B', inputs='selfies', type='pretrained', version=0, group='huggingface', submitter='Datamol', description='ChemGPT (1.2B params) is a transformers model for generative molecular modeling, which was pretrained on the PubChem10M dataset.', representation='line-notation', require_3D=False, tags=['ChemGPT', 'huggingface', 'transformers', 'GPTNeo', 'PubChem', 'selfies', 'large'], authors=['Nathan Frey', 'Ryan Soklaski', 'Simon Axelrod', 'Siddharth Samsi', 'Rafael Gomez-Bombarelli', 'Connor Coley', 'Vijay Gadepally'], reference='10.26434/chemrxiv-2022-3s512', created_at=datetime.datetime(2023, 4, 10, 14, 0, 7, 263490), sha256sum='e3b0c44298fc1c149afbf4c8996fb92427ae41e4649b934ca495991b7852b855'),\n",
       " ModelInfo(name='ChemGPT-4.7M', inputs='selfies', type='pretrained', version=0, group='huggingface', submitter='Datamol', description='ChemGPT (4.7M params) is a transformer model for generative molecular modeling, which was pretrained on the PubChem10M dataset.', representation='line-notation', require_3D=False, tags=['ChemGPT', 'huggingface', 'transformers', 'GPTNeo', 'PubChem', 'selfies', 'small'], authors=['Nathan Frey', 'Ryan Soklaski', 'Simon Axelrod', 'Siddharth Samsi', 'Rafael Gomez-Bombarelli', 'Connor Coley', 'Vijay Gadepally'], reference='10.26434/chemrxiv-2022-3s512', created_at=datetime.datetime(2023, 4, 10, 14, 0, 7, 263134), sha256sum='e3b0c44298fc1c149afbf4c8996fb92427ae41e4649b934ca495991b7852b855'),\n",
       " ModelInfo(name='atompair-count', inputs='smiles', type='count', version=0, group='rdkit', submitter='Datamol', description='The Atompair-Count fingerprint is essentially the same as the atompair fingerprint. However, instead of being hashed into a binary vector, there is no hashing process and simply a count vector is returned', representation='vector', require_3D=False, tags=['atompaircount', 'interactions', 'frequency', 'rdkit', 'vector'], authors=['Raymond E. Carhart', 'Dennis H. Smith', 'R. Venkataraghavan'], reference='https://doi.org/10.1021/ci00046a002', created_at=datetime.datetime(2023, 2, 16, 10, 29, 36, 973090), sha256sum='9c298d589a2158eb513cb52191144518a2acab2cb0c04f1df14fca0f712fa4a1'),\n",
       " ModelInfo(name='avalon', inputs='smiles', type='hashed', version=0, group='rdkit', submitter='Datamol', description='Similar to Daylight fingerprints, Avalon uses a fingerprint generator that enumerates certain paths and feature classes of the molecular graph.  The fingerprint bit positions are hashed from the description of the feature; however, the hash codes for all the path-style features are computed implicitly while they are enumerated.', representation='vector', require_3D=False, tags=['avalon', 'hashed', '2D', 'binary', 'rdkit', 'folded'], authors=['Peter Gedeck', 'Bernhard Rohde', 'Christian Bartels'], reference='https://doi.org/10.1021/ci050413p', created_at=datetime.datetime(2023, 2, 16, 10, 28, 42, 723089), sha256sum='9c298d589a2158eb513cb52191144518a2acab2cb0c04f1df14fca0f712fa4a1'),\n",
       " ModelInfo(name='ecfp-count', inputs='smiles', type='count', version=0, group='rdkit', submitter='Datamol', description='The ECFP-Count (Extended Connectivity Fingerprints-Coun is essentially the same as the ECFP. However, instead of being hashed into a binary vector, there is no hashing process and simply a count vector is returned', representation='vector', require_3D=False, tags=['fixed', 'morgan', '2D', 'rdkit', 'ecfpcount', 'vector'], authors=['David Rogers', 'Mathew Hahn'], reference='https://doi.org/10.1021/ci100050t', created_at=datetime.datetime(2023, 2, 16, 10, 29, 27, 788409), sha256sum='9c298d589a2158eb513cb52191144518a2acab2cb0c04f1df14fca0f712fa4a1'),\n",
       " ModelInfo(name='ecfp', inputs='smiles', type='hashed', version=0, group='rdkit', submitter='Datamol', description='Extended-connectivity fingerprints (ECFPs) are a family of circular fingerprints that are commonly used for the measure of molecular similarity. They are based on the connectivity of atoms in molecular graphs.', representation='vector', require_3D=False, tags=['fixed', 'morgan', '2D', 'binary', 'rdkit', 'ecfp', 'folded'], authors=['David Rogers', 'Mathew Hahn'], reference='https://doi.org/10.1021/ci100050t', created_at=datetime.datetime(2023, 2, 16, 10, 28, 46, 950355), sha256sum='9c298d589a2158eb513cb52191144518a2acab2cb0c04f1df14fca0f712fa4a1'),\n",
       " ModelInfo(name='erg', inputs='smiles', type='hand-crafted', version=0, group='rdkit', submitter='Datamol', description='Extended Reduced Graph approach (ErG) describes a molecular structure by defining its pharmacophoric points and the topological distance between them. It uses a pairwise combination of pharmacophores and their distance to set a corresponding bit in a vector. The ErG fingerprint implements fuzzy incrementation, which favours retrieval of actives with different core structures (scaffold hopping).', representation='vector', require_3D=False, tags=['2D', 'pharmacophore', 'erg', 'graph', 'rdkit'], authors=['Nikolaus Stiefl', 'Ian A Watson', 'Knut Baumann', 'Andrea Zaliani'], reference='https://doi.org/10.1021/ci050457y', created_at=datetime.datetime(2023, 2, 16, 10, 29, 14, 308859), sha256sum='9c298d589a2158eb513cb52191144518a2acab2cb0c04f1df14fca0f712fa4a1'),\n",
       " ModelInfo(name='estate', inputs='smiles', type='hand-crafted', version=0, group='rdkit', submitter='Datamol', description='Electrotopological state (Estate) indices are numerical values computed for each atom in a molecule, and which encode information about both the topological environment of that atom and the electronic interactions due to all other atoms in the molecule.', representation='vector', require_3D=False, tags=['electrotopological', 'electronic', 'interactions', 'estate', 'rdkit'], authors=['Lemont B. Kier', 'Lowell H. Hall'], reference='https://doi.org/10.1023/A:1015952613760', created_at=datetime.datetime(2023, 2, 16, 10, 29, 24, 838083), sha256sum='9c298d589a2158eb513cb52191144518a2acab2cb0c04f1df14fca0f712fa4a1'),\n",
       " ModelInfo(name='fcfp-count', inputs='smiles', type='count', version=0, group='rdkit', submitter='Datamol', description='The FCFP-Count (Functional Class Fingerprints-Count) is essentially the same as the FCFP. However, instead of being hashed into a binary vector, there is no hashing process and simply a count vector is returned', representation='vector', require_3D=False, tags=['functional', 'fcfpcount', '2D', 'rdkit', 'pharmacophore'], authors=['David Rogers', 'Mathew Hahn'], reference='https://doi.org/10.1021/ci100050t', created_at=datetime.datetime(2023, 2, 16, 10, 29, 30, 814828), sha256sum='9c298d589a2158eb513cb52191144518a2acab2cb0c04f1df14fca0f712fa4a1'),\n",
       " ModelInfo(name='fcfp', inputs='smiles', type='hashed', version=0, group='rdkit', submitter='Datamol', description='Functional-class fingerprints (FCFPs) are an extension of ECFPs which incorporate information about the functional classes of atoms in a molecule. FCFPs are intended to capture more abstract property-based substructural features and leverage atomic characteristics that relate more to pharmacophoric features (e.g. hydrogen donor/acceptor, polarity, aromaticity, etc.).', representation='vector', require_3D=False, tags=['functional', 'fcfp', '2D', 'binary', 'rdkit', 'pharmacophore', 'folded'], authors=['David Rogers', 'Mathew Hahn'], reference='https://doi.org/10.1021/ci100050t', created_at=datetime.datetime(2023, 2, 16, 10, 28, 50, 104228), sha256sum='9c298d589a2158eb513cb52191144518a2acab2cb0c04f1df14fca0f712fa4a1'),\n",
       " ModelInfo(name='maccs', inputs='smiles', type='hand-crafted', version=0, group='rdkit', submitter='Datamol', description='MACCS keys are 166-bit 2D structure fingerprints that are commonly used for the measure of molecular similarity. They described the presence of key features in molecular graphs', representation='vector', require_3D=False, tags=['maccs', 'fixed', '2D', 'binary', 'rdkit'], authors=['MDL Information Systems'], reference='https://doi.org/10.1021/ci010132r', created_at=datetime.datetime(2023, 2, 2, 19, 51, 10, 688803), sha256sum='9c298d589a2158eb513cb52191144518a2acab2cb0c04f1df14fca0f712fa4a1'),\n",
       " ModelInfo(name='pattern', inputs='smiles', type='hashed', version=0, group='rdkit', submitter='Datamol', description='Pattern fingerprints were designed to be used in substructure screening. The algorithm identifies features in the molecule by doing substructure searches using a small number of very generic SMARTS patterns and then hashing each occurrence of a pattern based on the atom and bond types involved. The fact that a particular pattern matched the molecule at all is also stored by hashing the pattern ID and size.', representation='vector', require_3D=False, tags=['pattern', 'fingerprints', 'rdkit', 'binary', 'predefined', 'substructures'], authors=['RDKit'], reference='https://www.rdkit.org/docs/RDKit_Book.html#pattern-fingerprints', created_at=datetime.datetime(2023, 2, 16, 10, 29, 5, 566897), sha256sum='9c298d589a2158eb513cb52191144518a2acab2cb0c04f1df14fca0f712fa4a1'),\n",
       " ModelInfo(name='rdkit', inputs='smiles', type='hashed', version=0, group='rdkit', submitter='Datamol', description='This is an RDKit-specific fingerprint that is inspired by (though it differs significantly from) public descriptions of the Daylight fingerprint. The fingerprinting algorithm identifies all subgraphs in the molecule within a particular range of sizes, hashes each subgraph to generate a raw bit ID, that is then folded into the requested fingerprint size as binary vectors. Options are available to generate count-based forms of the fingerprint or “non-folded” forms (using a sparse representation).', representation='vector', require_3D=False, tags=['fingerprints', 'rdkit', 'binary', 'folded', 'daylight'], authors=['RDKit'], reference='https://www.rdkit.org/docs/RDKit_Book.html#rdkit-fingerprints', created_at=datetime.datetime(2023, 2, 16, 10, 28, 59, 610866), sha256sum='9c298d589a2158eb513cb52191144518a2acab2cb0c04f1df14fca0f712fa4a1'),\n",
       " ModelInfo(name='topological-count', inputs='smiles', type='count', version=0, group='rdkit', submitter='Datamol', description='The Topological-Count fingerprint is essentially the same as the Topological fingerprint. However, instead of being hashed into a binary vector, there is no hashing process and simply a count vector is returned', representation='vector', require_3D=False, tags=['graph', 'topologicalcount', 'torsion', 'rdkit', 'vector'], authors=['Ramaswamy Nilakantan', 'Norman Bauman', 'J. Scott Dixon', 'R. Venkataraghavan'], reference='https://doi.org/10.1021/ci00054a008', created_at=datetime.datetime(2023, 2, 16, 10, 29, 33, 828325), sha256sum='9c298d589a2158eb513cb52191144518a2acab2cb0c04f1df14fca0f712fa4a1'),\n",
       " ModelInfo(name='topological', inputs='smiles', type='hashed', version=0, group='rdkit', submitter='Datamol', description='Topological torsion fingerprints are a type of molecular fingerprint that represents the topological features of a molecule based on its graph representation. They are generated by computing the frequencies of all possible molecular torsions in a molecule and then encoding them as a binary vector.', representation='vector', require_3D=False, tags=['graph', 'topological', 'torsion', 'rdkit', 'binary', 'folded'], authors=['Ramaswamy Nilakantan', 'Norman Bauman', 'J. Scott Dixon', 'R. Venkataraghavan'], reference='https://doi.org/10.1021/ci00054a008', created_at=datetime.datetime(2023, 2, 16, 10, 28, 56, 506694), sha256sum='9c298d589a2158eb513cb52191144518a2acab2cb0c04f1df14fca0f712fa4a1')]"
      ]
     },
     "execution_count": 4,
     "metadata": {},
     "output_type": "execute_result"
    }
   ],
   "source": [
    "store.available_models"
   ]
  },
  {
   "cell_type": "code",
   "execution_count": 5,
   "metadata": {},
   "outputs": [],
   "source": [
    "avalon = {'name': 'avalon',\n",
    " 'inputs': 'smiles',\n",
    " 'type': 'hashed',\n",
    " 'version': 0,\n",
    " 'group': 'rdkit',\n",
    " 'submitter': 'Datamol',\n",
    " 'description': 'Similar to Daylight fingerprints, Avalon uses a fingerprint generator that enumerates certain paths and feature classes of the molecular graph.  The fingerprint bit positions are hashed from the description of the feature; however, the hash codes for all the path-style features are computed implicitly while they are enumerated.',\n",
    " 'representation': 'vector',\n",
    " 'require_3D': False,\n",
    " 'tags': ['avalon', 'hashed', '2D', 'binary', 'rdkit', 'folded'],\n",
    " 'authors': ['Peter Gedeck', 'Bernhard Rohde', 'Christian Bartels'],\n",
    " 'reference': 'https://doi.org/10.1021/ci050413p'\n",
    "}\n",
    "\n",
    "ecfp = {'name': 'ecfp',\n",
    " 'inputs': 'smiles',\n",
    " 'type': 'hashed',\n",
    " 'version': 0,\n",
    " 'group': 'rdkit',\n",
    " 'submitter': 'Datamol',\n",
    " 'description': 'Extended-connectivity fingerprints (ECFPs) are a family of circular fingerprints that are commonly used for the measure of molecular similarity. They are based on the connectivity of atoms in molecular graphs.',\n",
    " 'representation': 'vector',\n",
    " 'require_3D': False,\n",
    " 'tags': ['fixed', 'morgan', '2D', 'binary', 'rdkit','ecfp', 'folded'],\n",
    " 'authors': ['David Rogers', 'Mathew Hahn'],\n",
    " 'reference': 'https://doi.org/10.1021/ci100050t',\n",
    "}\n",
    "\n",
    "fcfp = {'name': 'fcfp',\n",
    " 'inputs': 'smiles',\n",
    " 'type': 'hashed',\n",
    " 'version': 0,\n",
    " 'group': 'rdkit',\n",
    " 'submitter': 'Datamol',\n",
    " 'description': 'Functional-class fingerprints (FCFPs) are an extension of ECFPs which incorporate information about the functional classes of atoms in a molecule. FCFPs are intended to capture more abstract property-based substructural features and leverage atomic characteristics that relate more to pharmacophoric features (e.g. hydrogen donor/acceptor, polarity, aromaticity, etc.).',\n",
    " 'representation': 'vector',\n",
    " 'require_3D': False,\n",
    " 'tags': ['functional', 'fcfp', '2D', 'binary', 'rdkit','pharmacophore', 'folded'],\n",
    " 'authors': ['David Rogers', 'Mathew Hahn'],\n",
    " 'reference': 'https://doi.org/10.1021/ci100050t',\n",
    "}\n",
    "\n",
    "topological = {'name': 'topological',\n",
    " 'inputs': 'smiles',\n",
    " 'type': 'hashed',\n",
    " 'version': 0,\n",
    " 'group': 'rdkit',\n",
    " 'submitter': 'Datamol',\n",
    " 'description': 'Topological torsion fingerprints are a type of molecular fingerprint that represents the topological features of a molecule based on its graph representation. They are generated by computing the frequencies of all possible molecular torsions in a molecule and then encoding them as a binary vector.',\n",
    " 'representation': 'vector',\n",
    " 'require_3D': False,\n",
    " 'tags': ['graph', 'topological', 'torsion', 'rdkit', 'binary', 'folded'],\n",
    " 'authors': ['Ramaswamy Nilakantan', 'Norman Bauman', 'J. Scott Dixon', 'R. Venkataraghavan'],\n",
    " 'reference': 'https://doi.org/10.1021/ci00054a008',\n",
    "}\n",
    "\n",
    "atompair = {'name': 'topological',\n",
    " 'inputs': 'smiles',\n",
    " 'type': 'hashed',\n",
    " 'version': 0,\n",
    " 'group': 'rdkit',\n",
    " 'submitter': 'Datamol',\n",
    " 'description': 'Topological torsion fingerprints are a type of molecular fingerprint that represents the topological features of a molecule based on its graph representation. They are generated by computing the frequencies of all possible molecular torsions in a molecule and then encoding them as a binary vector.',\n",
    " 'representation': 'vector',\n",
    " 'require_3D': False,\n",
    " 'tags': ['graph', 'topological', 'torsion', 'rdkit', 'binary', 'folded'],\n",
    " 'authors': ['Ramaswamy Nilakantan', 'Norman Bauman', 'J. Scott Dixon', 'R. Venkataraghavan'],\n",
    " 'reference': 'https://doi.org/10.1021/ci00054a008',\n",
    "}\n",
    "\n",
    "rdkit = {'name': 'rdkit',\n",
    " 'inputs': 'smiles',\n",
    " 'type': 'hashed',\n",
    " 'version': 0,\n",
    " 'group': 'rdkit',\n",
    " 'submitter': 'Datamol',\n",
    " 'description': 'This is an RDKit-specific fingerprint that is inspired by (though it differs significantly from) public descriptions of the Daylight fingerprint. The fingerprinting algorithm identifies all subgraphs in the molecule within a particular range of sizes, hashes each subgraph to generate a raw bit ID, that is then folded into the requested fingerprint size as binary vectors. Options are available to generate count-based forms of the fingerprint or “non-folded” forms (using a sparse representation).',\n",
    " 'representation': 'vector',\n",
    " 'require_3D': False,\n",
    " 'tags': ['fingerprints', 'rdkit', 'binary', 'folded', 'daylight'],\n",
    " 'authors': ['RDKit'],\n",
    " 'reference': 'https://www.rdkit.org/docs/RDKit_Book.html#rdkit-fingerprints'\n",
    "}\n",
    "\n",
    "\n",
    "pattern = {'name': 'pattern',\n",
    " 'inputs': 'smiles',\n",
    " 'type': 'hashed',\n",
    " 'version': 0,\n",
    " 'group': 'rdkit',\n",
    " 'submitter': 'Datamol',\n",
    " 'description': 'Pattern fingerprints were designed to be used in substructure screening. The algorithm identifies features in the molecule by doing substructure searches using a small number of very generic SMARTS patterns and then hashing each occurrence of a pattern based on the atom and bond types involved. The fact that a particular pattern matched the molecule at all is also stored by hashing the pattern ID and size.',\n",
    " 'representation': 'vector',\n",
    " 'require_3D': False,\n",
    " 'tags': ['pattern', 'fingerprints', 'rdkit', 'binary', 'predefined', 'substructures'],\n",
    " 'authors': ['RDKit'],\n",
    " 'reference': 'https://www.rdkit.org/docs/RDKit_Book.html#pattern-fingerprints',\n",
    "}\n",
    "\n",
    "layered = {'name': 'pattern',\n",
    " 'inputs': 'smiles',\n",
    " 'type': 'hashed',\n",
    " 'version': 0,\n",
    " 'group': 'rdkit',\n",
    " 'submitter': 'Datamol',\n",
    " 'description': 'Pattern fingerprints were designed to be used in substructure screening. The algorithm identifies features in the molecule by doing substructure searches using a small number of very generic SMARTS patterns and then hashing each occurrence of a pattern based on the atom and bond types involved. The fact that a particular pattern matched the molecule at all is also stored by hashing the pattern ID and size.',\n",
    " 'representation': 'vector',\n",
    " 'require_3D': False,\n",
    " 'tags': ['pattern', 'fingerprints', 'rdkit', 'binary', 'predefined', 'substructures'],\n",
    " 'authors': ['RDKit'],\n",
    " 'reference': 'https://www.rdkit.org/docs/RDKit_Book.html#pattern-fingerprints',\n",
    "}\n",
    "\n",
    "map4 = {'name': 'map4',\n",
    " 'inputs': 'smiles',\n",
    " 'type': 'hashed',\n",
    " 'version': 0,\n",
    " 'group': 'fp',\n",
    " 'submitter': 'Datamol',\n",
    " 'description': 'MinHashed atom-pair fingerprint up to a diameter of four bonds (MAP4) is suitable for both small and large molecules by combining substructure and atom-pair concepts. In this fingerprint the circular substructures with radii of r = 1 and r = 2 bonds around each atom in an atom-pair are written as two pairs of SMILES, each pair being combined with the topological distance separating the two central atoms. These so-called atom-pair molecular shingles are hashed, and the resulting set of hashes is MinHashed to form the MAP4 fingerprint.',\n",
    " 'representation': 'vector',\n",
    " 'require_3D': False,\n",
    " 'tags': ['minhashed', 'map4', 'atompair', 'substructure', 'morgan'],\n",
    " 'authors': ['Alice Capecchi', 'Daniel Probst', 'Jean-Louis Reymond'],\n",
    " 'reference': 'https://doi.org/10.1186/s13321-020-00445-4'\n",
    "}\n",
    "\n",
    "secfp = {'name': 'secfp',\n",
    " 'inputs': 'smiles',\n",
    " 'type': 'hashed',\n",
    " 'version': 0,\n",
    " 'group': 'fp',\n",
    " 'submitter': 'Datamol',\n",
    " 'description': 'SMILES extended connectivity fingerprint (SECFP), is a fingerprint variant on MinHash fingerprints (MHFPs) SMILES-based circular substructure hashing scheme, folded by the same modulo 𝑛 operation that is used by ECFP.',\n",
    " 'representation': 'vector',\n",
    " 'require_3D': False,\n",
    " 'tags': ['minhashed', 'smiles', 'ecfp', 'secfp', 'mhfp', 'mhfp6'],\n",
    " 'authors': ['Daniel Probst', 'Jean-Louis Reymond'],\n",
    " 'reference': 'https://doi.org/10.1186/s13321-018-0321-8',\n",
    "}\n",
    "\n",
    "\n",
    "erg = {'name': 'erg',\n",
    " 'inputs': 'smiles',\n",
    " 'type': 'hand-crafted',\n",
    " 'version': 0,\n",
    " 'group': 'rdkit',\n",
    " 'submitter': 'Datamol',\n",
    " 'description': 'Extended Reduced Graph approach (ErG) describes a molecular structure by defining its pharmacophoric points and the topological distance between them. It uses a pairwise combination of pharmacophores and their distance to set a corresponding bit in a vector. The ErG fingerprint implements fuzzy incrementation, which favours retrieval of actives with different core structures (scaffold hopping).',\n",
    " 'representation': 'vector',\n",
    " 'require_3D': False,\n",
    " 'tags': ['2D', 'pharmacophore', 'erg', 'graph', 'rdkit'],\n",
    " 'authors': ['Nikolaus Stiefl', 'Ian A Watson', 'Knut Baumann', 'Andrea Zaliani'],\n",
    " 'reference': 'https://doi.org/10.1021/ci050457y',\n",
    "}\n",
    "\n",
    "estate = {'name': 'estate',\n",
    " 'inputs': 'smiles',\n",
    " 'type': 'hand-crafted',\n",
    " 'version': 0,\n",
    " 'group': 'rdkit',\n",
    " 'submitter': 'Datamol',\n",
    " 'description': 'Electrotopological state (Estate) indices are numerical values computed for each atom in a molecule, and which encode information about both the topological environment of that atom and the electronic interactions due to all other atoms in the molecule.',\n",
    " 'representation': 'vector',\n",
    " 'require_3D': False,\n",
    " 'tags': ['electrotopological', 'electronic', 'interactions', 'estate', 'rdkit'],\n",
    " 'authors': ['Lemont B. Kier', 'Lowell H. Hall'],\n",
    " 'reference': 'https://doi.org/10.1023/A:1015952613760',\n",
    "}\n",
    "\n",
    "avalon_count = {'name': 'estate',\n",
    " 'inputs': 'smiles',\n",
    " 'type': 'hand-crafted',\n",
    " 'version': 0,\n",
    " 'group': 'rdkit',\n",
    " 'submitter': 'Datamol',\n",
    " 'description': 'Electrotopological state (Estate) indices are numerical values computed for each atom in a molecule, and which encode information about both the topological environment of that atom and the electronic interactions due to all other atoms in the molecule.',\n",
    " 'representation': 'vector',\n",
    " 'require_3D': False,\n",
    " 'tags': ['electrotopological', 'electronic', 'interactions', 'estate', 'rdkit'],\n",
    " 'authors': ['Lemont B. Kier', 'Lowell H. Hall'],\n",
    " 'reference': 'https://doi.org/10.1023/A:1015952613760',\n",
    "}\n",
    "\n",
    "\n",
    "rdkit_count = {'name': 'estate',\n",
    " 'inputs': 'smiles',\n",
    " 'type': 'hand-crafted',\n",
    " 'version': 0,\n",
    " 'group': 'rdkit',\n",
    " 'submitter': 'Datamol',\n",
    " 'description': 'Electrotopological state (Estate) indices are numerical values computed for each atom in a molecule, and which encode information about both the topological environment of that atom and the electronic interactions due to all other atoms in the molecule.',\n",
    " 'representation': 'vector',\n",
    " 'require_3D': False,\n",
    " 'tags': ['electrotopological', 'electronic', 'interactions', 'estate', 'rdkit'],\n",
    " 'authors': ['Lemont B. Kier', 'Lowell H. Hall'],\n",
    " 'reference': 'https://doi.org/10.1023/A:1015952613760',\n",
    "}\n",
    "\n",
    "\n",
    "ecfp_count = {'name': 'ecfp-count',\n",
    " 'inputs': 'smiles',\n",
    " 'type': 'count',\n",
    " 'version': 0,\n",
    " 'group': 'rdkit',\n",
    " 'submitter': 'Datamol',\n",
    " 'description': 'The ECFP-Count (Extended Connectivity Fingerprints-Coun is essentially the same as the ECFP. However, instead of being hashed into a binary vector, there is no hashing process and simply a count vector is returned',\n",
    " 'representation': 'vector',\n",
    " 'require_3D': False,\n",
    " 'tags': ['fixed', 'morgan', '2D', 'rdkit', 'ecfpcount', 'vector'],\n",
    " 'authors': ['David Rogers', 'Mathew Hahn'],\n",
    " 'reference': 'https://doi.org/10.1021/ci100050t',\n",
    "}\n",
    "\n",
    "fcfp_count = {'name': 'fcfp-count',\n",
    " 'inputs': 'smiles',\n",
    " 'type': 'count',\n",
    " 'version': 0,\n",
    " 'group': 'rdkit',\n",
    " 'submitter': 'Datamol',\n",
    " 'description': 'The FCFP-Count (Functional Class Fingerprints-Count) is essentially the same as the FCFP. However, instead of being hashed into a binary vector, there is no hashing process and simply a count vector is returned',\n",
    " 'representation': 'vector',\n",
    " 'require_3D': False,\n",
    " 'tags': ['functional', 'fcfpcount', '2D', 'rdkit', 'pharmacophore'],\n",
    " 'authors': ['David Rogers', 'Mathew Hahn'],\n",
    " 'reference': 'https://doi.org/10.1021/ci100050t',\n",
    "}\n",
    "\n",
    "topological_count = {'name': 'topological-count',\n",
    " 'inputs': 'smiles',\n",
    " 'type': 'count',\n",
    " 'version': 0,\n",
    " 'group': 'rdkit',\n",
    " 'submitter': 'Datamol',\n",
    " 'description': 'The Topological-Count fingerprint is essentially the same as the Topological fingerprint. However, instead of being hashed into a binary vector, there is no hashing process and simply a count vector is returned',\n",
    " 'representation': 'vector',\n",
    " 'require_3D': False,\n",
    " 'tags': ['graph', 'topologicalcount', 'torsion', 'rdkit', 'vector'],\n",
    " 'authors': ['Ramaswamy Nilakantan', 'Norman Bauman', 'J. Scott Dixon', 'R. Venkataraghavan'],\n",
    " 'reference': 'https://doi.org/10.1021/ci00054a008',\n",
    "}\n",
    "\n",
    "atom_pair_count = {'name': 'atompair-count',\n",
    " 'inputs': 'smiles',\n",
    " 'type': 'count',\n",
    " 'version': 0,\n",
    " 'group': 'rdkit',\n",
    " 'submitter': 'Datamol',\n",
    " 'description': 'The Atompair-Count fingerprint is essentially the same as the atompair fingerprint. However, instead of being hashed into a binary vector, there is no hashing process and simply a count vector is returned',\n",
    " 'representation': 'vector',\n",
    " 'require_3D': False,\n",
    " 'tags': ['atompaircount', 'interactions', 'frequency', 'rdkit', 'vector'],\n",
    " 'authors': ['Raymond E. Carhart', 'Dennis H. Smith', 'R. Venkataraghavan'],\n",
    " 'reference': 'https://doi.org/10.1021/ci00046a002',\n",
    "}\n",
    "\n"
   ]
  },
  {
   "cell_type": "code",
   "execution_count": null,
   "metadata": {},
   "outputs": [],
   "source": [
    "model_infos = [avalon, ecfp, fcfp, topological, atompair, rdkit, pattern, layered, map4, secfp, erg, estate, avalon_count, rdkit_count, ecfp_count, fcfp_count, topological_count, atom_pair_count]\n",
    "for model_info in model_infos:\n",
    "    card = ModelInfo(**model_info)\n",
    "    store.register(card, model=None, force=True)"
   ]
  },
  {
   "cell_type": "code",
   "execution_count": 8,
   "metadata": {},
   "outputs": [],
   "source": [
    "pmapper_2d = {'name': 'pharm2D-pmapper',\n",
    " 'inputs': 'smiles',\n",
    " 'type': 'hashed',\n",
    " 'version': 0,\n",
    " 'group': 'pharmacophore',\n",
    " 'submitter': 'Datamol',\n",
    " 'description': '2D pharmacophores computed by the Pharm2D module in RDKit using Pmapper feature definition. Pmapper is a Python module to generate pharmacophore signatures and fingerprints. See https://github.com/DrrDom/pmapper',\n",
    " 'representation': 'vector',\n",
    " 'require_3D': False,\n",
    " 'tags': ['pharmacophore', 'hashed', '2D', 'pmapper', 'search'],\n",
    " 'authors': [\"Alina Kutlushina\", \"Aigul Khakimova\", \"Timur Madzhidov\", \"Pavel Polishchuk\"],\n",
    " 'reference': 'https://doi.org/10.3390/molecules23123094'\n",
    "}\n",
    "\n",
    "pmapper_3d = {'name': 'pharm3D-pmapper',\n",
    " 'inputs': 'mol',\n",
    " 'type': 'hashed',\n",
    " 'version': 0,\n",
    " 'group': 'pharmacophore',\n",
    " 'submitter': 'Datamol',\n",
    " 'description': 'Pmapper is a Python module to generate 3D pharmacophore signatures and fingerprints. Signatures uniquely encode 3D pharmacophores with hashes suitable for fast identification of identical pharmacophores. See https://github.com/DrrDom/pmapper',\n",
    " 'representation': 'vector',\n",
    " 'require_3D': True,\n",
    " 'tags': ['pharmacophore', 'hashed', '2D', 'pmapper', 'search'],\n",
    " 'authors': [\"Alina Kutlushina\", \"Aigul Khakimova\", \"Timur Madzhidov\", \"Pavel Polishchuk\"],\n",
    " 'reference': 'https://doi.org/10.3390/molecules23123094'\n",
    "}\n",
    "\n",
    "gobbi_2d = {'name': 'pharm2D-gobbi',\n",
    " 'inputs': 'smiles',\n",
    " 'type': 'hashed',\n",
    " 'version': 0,\n",
    " 'group': 'pharmacophore',\n",
    " 'submitter': 'Datamol',\n",
    " 'description': '2D pharmacophores computed by the Pharm2D module in RDKit. Gobbi pharmacophore were designed for selecting compounds from large combinatorial libraries, as defined in the Gobbi and Poppinger (1998) paper. 8 pharmacophore feature types were listed (hydrogen bond acceptor, hydrogen bond donor, basic group, acidic group, hydrophobic group, halogen, attachment point to an aliphatic ring, and attachment point to an aromatic ring)',\n",
    " 'representation': 'vector',\n",
    " 'require_3D': False,\n",
    " 'tags': ['pharmacophore', 'hashed', '2D', 'gobbi', 'search'],\n",
    " 'authors': [\"Gobbi A\", \"Poppinger D\"],\n",
    " 'reference': 'https://europepmc.org/article/med/10099495'\n",
    "}\n",
    "\n",
    "\n",
    "gobbi_3d = {'name': 'pharm3D-gobbi',\n",
    " 'inputs': 'mol',\n",
    " 'type': 'hashed',\n",
    " 'version': 0,\n",
    " 'group': 'pharmacophore',\n",
    " 'submitter': 'Datamol',\n",
    " 'description': '3D version of the 2D pharmacophores defined in the Gobbi and Poppinger (1998) paper. 8 pharmacophore feature types were listed (hydrogen bond acceptor, hydrogen bond donor, basic group, acidic group, hydrophobic group, halogen, attachment point to an aliphatic ring, and attachment point to an aromatic ring)',\n",
    " 'representation': 'vector',\n",
    " 'require_3D': True,\n",
    " 'tags': ['pharmacophore', 'hashed', '2D', 'gobbi', 'search'],\n",
    " 'authors': [\"Gobbi A\", \"Poppinger D\"],\n",
    " 'reference': 'https://europepmc.org/article/med/10099495'\n",
    "}\n",
    "\n",
    "common_2d = {'name': 'pharm2D-default',\n",
    " 'inputs': 'smiles',\n",
    " 'type': 'hashed',\n",
    " 'version': 0,\n",
    " 'group': 'pharmacophore',\n",
    " 'submitter': 'Datamol',\n",
    " 'description': '2D pharmacophores computed  by the Pharm2D module in RDKit and the default feature definition: https://github.com/rdkit/rdkit/blob/master/Data/BaseFeatures.fdef',\n",
    " 'representation': 'vector',\n",
    " 'require_3D': False,\n",
    " 'tags': ['rdkit', 'hashed', 'pharmacophore', \"2D\", 'search'],\n",
    " 'authors': ['Greg Landrum'],\n",
    " 'reference': 'https://github.com/rdkit/rdkit'\n",
    "}\n",
    "\n",
    "common_3d = {'name': 'pharm2D-default',\n",
    " 'inputs': 'mol',\n",
    " 'type': 'hashed',\n",
    " 'version': 0,\n",
    " 'group': 'pharmacophore',\n",
    " 'submitter': 'Datamol',\n",
    " 'description': '3D version of the pharmacophores computed with the default rdkit feature definition: https://github.com/rdkit/rdkit/blob/master/Data/BaseFeatures.fdef',\n",
    " 'representation': 'vector',\n",
    " 'require_3D': True,\n",
    " 'tags': ['rdkit', 'hashed', 'pharmacophore', \"3D\", 'search'],\n",
    " 'authors': ['Greg Landrum'],\n",
    " 'reference': 'https://github.com/rdkit/rdkit'\n",
    "}\n",
    "\n",
    "\n",
    "cats2d = {'name': 'pharm2D-cats',\n",
    " 'inputs': 'smiles',\n",
    " 'type': 'hashed',\n",
    " 'version': 0,\n",
    " 'group': 'pharmacophore',\n",
    " 'submitter': 'Datamol',\n",
    " 'description': '2D topological pharmacophores computed by the Pharm2D module in RDKit using the CATS (Chemically Advanced Template Search) feature definition.',\n",
    " 'representation': 'vector',\n",
    " 'require_3D': False,\n",
    " 'tags': ['CATS', 'hashed', '2D', 'pharmacophore', 'search'],\n",
    " 'authors': [\"Michael Reutlinger\", \"Christian P Koch\", \"Daniel Reker\", \"Nickolay Todoroff\", \"Petra Schneider\", \"Tiago Rodrigues\", \"Gisbert Schneider\"],\n",
    " 'reference': 'https://www.ncbi.nlm.nih.gov/pmc/articles/PMC3743170/'\n",
    "}\n",
    "\n",
    "\n",
    "cats3d = {'name': 'pharm3D-cats',\n",
    " 'inputs': 'mol',\n",
    " 'type': 'hashed',\n",
    " 'version': 0,\n",
    " 'group': 'pharmacophore',\n",
    " 'submitter': 'Datamol',\n",
    " 'description': '3D version of the CATS pharmacophores computed with the Pharm2D module in RDKit.',\n",
    " 'representation': 'vector',\n",
    " 'require_3D': True,\n",
    " 'tags': ['CATS', 'hashed', '3D', 'pharmacophore', 'search'],\n",
    " 'authors': [\"Michael Reutlinger\", \"Christian P Koch\", \"Daniel Reker\", \"Nickolay Todoroff\", \"Petra Schneider\", \"Tiago Rodrigues\", \"Gisbert Schneider\"],\n",
    " 'reference': 'https://doi.org/10.1021/ci050413p'\n",
    "}\n",
    "\n",
    "cats2d_ori = {'name': 'cats2d',\n",
    " 'inputs': 'smiles',\n",
    " 'type': 'hashed',\n",
    " 'version': 0,\n",
    " 'group': 'all',\n",
    " 'submitter': 'Datamol',\n",
    " 'description': '2D version of the 6 Potential Pharmacophore Points CATS (Chemically Advanced Template Search) pharmacophore. This version differs from `pharm2D-cats` on the process to make the descriptors fuzzy, which is closer to the original paper implementation. Implementation is based on work by Rajarshi Guha (08/26/07) and Chris Arthur (1/11/2015)',\n",
    " 'representation': 'vector',\n",
    " 'require_3D': False,\n",
    " 'tags': ['CATS', 'hashed', '2D', \"pharmacophore\", 'search'],\n",
    " 'authors': [\"Michael Reutlinger\", \"Christian P Koch\", \"Daniel Reker\", \"Nickolay Todoroff\", \"Petra Schneider\", \"Tiago Rodrigues\", \"Gisbert Schneider\", \"Rajarshi Guha\", \"Chris Arthur\"],\n",
    " 'reference': 'https://doi.org/10.1021/ci050413p'\n",
    "}\n",
    "\n",
    "cats3d_ori = {'name': 'cats3d',\n",
    " 'inputs': 'mol',\n",
    " 'type': 'hashed',\n",
    " 'version': 0,\n",
    " 'group': 'all',\n",
    " 'submitter': 'Datamol',\n",
    " 'description': '3D version of the 6 Potential Pharmacophore Points CATS (Chemically Advanced Template Search) pharmacophore. This version differs from `pharm3D-cats` on the process to make the descriptors fuzzy, which is closer to the original paper implementation. This version uses the 3D distance matrix between pharmacophoric points',\n",
    " 'representation': 'vector',\n",
    " 'require_3D': True,\n",
    " 'tags': ['CATS', 'hashed', '3D', \"pharmacophore\", 'search'],\n",
    " 'authors': [\"Michael Reutlinger\", \"Christian Koch\", \"Daniel Reker\", \"Nickolay Todoroff\", \"Petra Schneider\", \"Tiago Rodrigues\", \"Gisbert Schneider\", \"Rajarshi Guha\", \"Chris Arthur\"],\n",
    " 'reference': 'https://doi.org/10.1021/ci050413p'\n",
    "}\n",
    "\n",
    "usr = {'name': 'usr',\n",
    " 'inputs': 'mol',\n",
    " 'type': 'hand-crafted',\n",
    " 'version': 0,\n",
    " 'group': 'shape',\n",
    " 'submitter': 'Datamol',\n",
    " 'description': 'Ultrafast Shape Recognition (USR) is a  Ligand-Based Virtual Screening methods that condense 3-dimensional information about molecular shape, as well as other properties, into a small set of numeric descriptors',\n",
    " 'representation': 'vector',\n",
    " 'require_3D': True,\n",
    " 'tags': ['USR', 'shape', '3D', 'search'],\n",
    " 'authors': ['Pedro Ballester', 'Graham Richards'],\n",
    " 'reference': 'https://onlinelibrary.wiley.com/doi/abs/10.1002/jcc.20681'\n",
    "}\n",
    "\n",
    "usrcat = {'name': 'usrcat',\n",
    " 'inputs': 'mol',\n",
    " 'type': 'hand-crafted',\n",
    " 'version': 0,\n",
    " 'group': 'shape',\n",
    " 'submitter': 'Datamol',\n",
    " 'description': 'USRCAT is a real-time ultrafast shape recognition with pharmacophoric constraints. It integrates atom type to the traditional USR descriptor to improve the performance of shape-based virtual screening',\n",
    " 'representation': 'vector',\n",
    " 'require_3D': True,\n",
    " 'tags': ['USRCAT', 'shape', 'pharmacophore', 'search'],\n",
    " 'authors': ['Adrian M Schreyer', 'Tom Blundell'],\n",
    " 'reference': 'https://jcheminf.biomedcentral.com/articles/10.1186/1758-2946-4-27'\n",
    "}\n",
    "\n",
    "electroshape = {'name': 'electroshape',\n",
    " 'inputs': 'mol',\n",
    " 'type': 'hand-crafted',\n",
    " 'version': 0,\n",
    " 'group': 'shape',\n",
    " 'submitter': 'Datamol',\n",
    " 'description': 'Compute Electroshape descriptors as described by Armstrong et al. in ElectroShape: fast molecular similarity calculations incorporating shape, chirality and electrostatics.',\n",
    " 'representation': 'vector',\n",
    " 'require_3D': True,\n",
    " 'tags': ['shape', 'electroshape', 'gasteiger', 'charge', \"3D\"],\n",
    " 'authors': ['Stuart Armstrong', 'Garrett Morris', 'Paul Finn', 'Raman Sharma', 'Loris Moretti', 'Richard Cooper', 'Graham Richards'],\n",
    " 'reference': 'http://dx.doi.org/doi:10.1007/s10822-010-9374-0'\n",
    "}\n",
    "\n",
    "scaffoldkey = {'name': 'scaffoldkeys',\n",
    " 'inputs': 'smiles',\n",
    " 'type': 'hand-crafted',\n",
    " 'version': 0,\n",
    " 'group': 'all',\n",
    " 'submitter': 'Datamol',\n",
    " 'description': 'Scaffold Keys are a method for representing scaffold using substructure features and were proposed by Peter Ertl in: Identification of Bioisosteric Scaffolds using Scaffold Keys',\n",
    " 'representation': 'vector',\n",
    " 'require_3D': False,\n",
    " 'tags': ['scaffold', 'bioisosters', 'search'],\n",
    " 'authors': ['Peter Ertl'],\n",
    " 'reference': 'https://chemrxiv.org/engage/chemrxiv/article-details/60c7558aee301c5479c7b1be'\n",
    "}\n",
    "\n",
    "\n",
    "mordred = {'name': 'mordred',\n",
    " 'inputs': 'mol',\n",
    " 'type': 'hand-crafted',\n",
    " 'version': 0,\n",
    " 'group': 'all',\n",
    " 'submitter': 'Datamol',\n",
    " 'description': 'Mordred calculates over 1800 molecular descriptors, including constitutional, topological, electronic, and geometrical descriptors, among others. Both 2D and 3D descriptors are supported and optional.',\n",
    " 'representation': 'vector',\n",
    " 'require_3D': False,\n",
    " 'tags': ['topological', 'physchem', 'mordred'],\n",
    " 'authors': ['Hirotomo Moriwaki', 'Yu-Shi Tian', 'Norihito Kawashita', 'Tatsuya Takagi'],\n",
    " 'reference': 'https://jcheminf.biomedcentral.com/articles/10.1186/s13321-018-0258-y'\n",
    "}\n",
    "\n",
    "\n",
    "desc2d = {'name': 'desc2D',\n",
    " 'inputs': 'smiles',\n",
    " 'type': 'hand-crafted',\n",
    " 'version': 0,\n",
    " 'group': 'rdkit',\n",
    " 'submitter': 'Datamol',\n",
    " 'description': '2D molecular descriptors are numerical representations of chemical and physical properties of molecules that are based on 2D structures of molecules. We augment the RDKit 2D descriptors with additional optional properties.',\n",
    " 'representation': 'vector',\n",
    " 'require_3D': False,\n",
    " 'tags': ['physchem', 'topological', '2D', 'rdkit'],\n",
    " 'authors': ['Greg Landrum', 'RDKit'],\n",
    " 'reference': 'https://github.com/rdkit/rdkit'\n",
    "}\n",
    "\n",
    "desc3d = {'name': 'desc3D',\n",
    " 'inputs': 'smiles',\n",
    " 'type': 'hand-crafted',\n",
    " 'version': 0,\n",
    " 'group': 'rdkit',\n",
    " 'submitter': 'Datamol',\n",
    " 'description': '3D molecular descriptors are numerical representations of chemical and physical properties of molecules that are based on 3D structures of molecules.',\n",
    " 'representation': 'vector',\n",
    " 'require_3D': True,\n",
    " 'tags': ['physchem', 'topological', '3D', 'rdkit'],\n",
    " 'authors': ['Greg Landrum', 'RDKit'],\n",
    " 'reference': 'https://github.com/rdkit/rdkit'\n",
    "}\n"
   ]
  },
  {
   "cell_type": "code",
   "execution_count": 9,
   "metadata": {},
   "outputs": [
    {
     "data": {
      "application/vnd.jupyter.widget-view+json": {
       "model_id": "1dd27767a9b448f48c9f48fc1bc3b02f",
       "version_major": 2,
       "version_minor": 0
      },
      "text/plain": [
       "  0%|          | 0.00/4.00 [00:00<?, ?B/s]"
      ]
     },
     "metadata": {},
     "output_type": "display_data"
    },
    {
     "name": "stderr",
     "output_type": "stream",
     "text": [
      "\u001b[32m2023-05-03 00:06:42.004\u001b[0m | \u001b[1mINFO    \u001b[0m | \u001b[36mmolfeat.store.modelstore\u001b[0m:\u001b[36mregister\u001b[0m:\u001b[36m124\u001b[0m - \u001b[1mSuccessfuly registered model pharm2D-pmapper !\u001b[0m\n"
     ]
    },
    {
     "data": {
      "application/vnd.jupyter.widget-view+json": {
       "model_id": "992c39681eaa47fbadcf5344826d6727",
       "version_major": 2,
       "version_minor": 0
      },
      "text/plain": [
       "  0%|          | 0.00/4.00 [00:00<?, ?B/s]"
      ]
     },
     "metadata": {},
     "output_type": "display_data"
    },
    {
     "name": "stderr",
     "output_type": "stream",
     "text": [
      "\u001b[32m2023-05-03 00:06:45.628\u001b[0m | \u001b[1mINFO    \u001b[0m | \u001b[36mmolfeat.store.modelstore\u001b[0m:\u001b[36mregister\u001b[0m:\u001b[36m124\u001b[0m - \u001b[1mSuccessfuly registered model pharm3D-pmapper !\u001b[0m\n"
     ]
    },
    {
     "data": {
      "application/vnd.jupyter.widget-view+json": {
       "model_id": "4237fa71b71049fa96657637f14e9512",
       "version_major": 2,
       "version_minor": 0
      },
      "text/plain": [
       "  0%|          | 0.00/4.00 [00:00<?, ?B/s]"
      ]
     },
     "metadata": {},
     "output_type": "display_data"
    },
    {
     "name": "stderr",
     "output_type": "stream",
     "text": [
      "\u001b[32m2023-05-03 00:06:49.175\u001b[0m | \u001b[1mINFO    \u001b[0m | \u001b[36mmolfeat.store.modelstore\u001b[0m:\u001b[36mregister\u001b[0m:\u001b[36m124\u001b[0m - \u001b[1mSuccessfuly registered model pharm2D-gobbi !\u001b[0m\n"
     ]
    },
    {
     "data": {
      "application/vnd.jupyter.widget-view+json": {
       "model_id": "1ab15215271246dcb978b89768092e88",
       "version_major": 2,
       "version_minor": 0
      },
      "text/plain": [
       "  0%|          | 0.00/4.00 [00:00<?, ?B/s]"
      ]
     },
     "metadata": {},
     "output_type": "display_data"
    },
    {
     "name": "stderr",
     "output_type": "stream",
     "text": [
      "\u001b[32m2023-05-03 00:06:52.675\u001b[0m | \u001b[1mINFO    \u001b[0m | \u001b[36mmolfeat.store.modelstore\u001b[0m:\u001b[36mregister\u001b[0m:\u001b[36m124\u001b[0m - \u001b[1mSuccessfuly registered model pharm3D-gobbi !\u001b[0m\n"
     ]
    },
    {
     "data": {
      "application/vnd.jupyter.widget-view+json": {
       "model_id": "d9ffb360638944ffb2f5c0141970b7a7",
       "version_major": 2,
       "version_minor": 0
      },
      "text/plain": [
       "  0%|          | 0.00/4.00 [00:00<?, ?B/s]"
      ]
     },
     "metadata": {},
     "output_type": "display_data"
    },
    {
     "name": "stderr",
     "output_type": "stream",
     "text": [
      "\u001b[32m2023-05-03 00:06:56.198\u001b[0m | \u001b[1mINFO    \u001b[0m | \u001b[36mmolfeat.store.modelstore\u001b[0m:\u001b[36mregister\u001b[0m:\u001b[36m124\u001b[0m - \u001b[1mSuccessfuly registered model pharm2D-default !\u001b[0m\n"
     ]
    },
    {
     "data": {
      "application/vnd.jupyter.widget-view+json": {
       "model_id": "197337fc156048b68a0b786df230b53a",
       "version_major": 2,
       "version_minor": 0
      },
      "text/plain": [
       "  0%|          | 0.00/4.00 [00:00<?, ?B/s]"
      ]
     },
     "metadata": {},
     "output_type": "display_data"
    },
    {
     "name": "stderr",
     "output_type": "stream",
     "text": [
      "\u001b[32m2023-05-03 00:06:59.675\u001b[0m | \u001b[1mINFO    \u001b[0m | \u001b[36mmolfeat.store.modelstore\u001b[0m:\u001b[36mregister\u001b[0m:\u001b[36m124\u001b[0m - \u001b[1mSuccessfuly registered model pharm2D-default !\u001b[0m\n"
     ]
    },
    {
     "data": {
      "application/vnd.jupyter.widget-view+json": {
       "model_id": "c81665cc399f47b4ad70f902af0ef212",
       "version_major": 2,
       "version_minor": 0
      },
      "text/plain": [
       "  0%|          | 0.00/4.00 [00:00<?, ?B/s]"
      ]
     },
     "metadata": {},
     "output_type": "display_data"
    },
    {
     "name": "stderr",
     "output_type": "stream",
     "text": [
      "\u001b[32m2023-05-03 00:07:03.155\u001b[0m | \u001b[1mINFO    \u001b[0m | \u001b[36mmolfeat.store.modelstore\u001b[0m:\u001b[36mregister\u001b[0m:\u001b[36m124\u001b[0m - \u001b[1mSuccessfuly registered model pharm2D-cats !\u001b[0m\n"
     ]
    },
    {
     "data": {
      "application/vnd.jupyter.widget-view+json": {
       "model_id": "e0464167cab54ae193f1a76bb36e2274",
       "version_major": 2,
       "version_minor": 0
      },
      "text/plain": [
       "  0%|          | 0.00/4.00 [00:00<?, ?B/s]"
      ]
     },
     "metadata": {},
     "output_type": "display_data"
    },
    {
     "name": "stderr",
     "output_type": "stream",
     "text": [
      "\u001b[32m2023-05-03 00:07:06.533\u001b[0m | \u001b[1mINFO    \u001b[0m | \u001b[36mmolfeat.store.modelstore\u001b[0m:\u001b[36mregister\u001b[0m:\u001b[36m124\u001b[0m - \u001b[1mSuccessfuly registered model pharm3D-cats !\u001b[0m\n"
     ]
    },
    {
     "data": {
      "application/vnd.jupyter.widget-view+json": {
       "model_id": "3712076da909456babac7fbb0004d44c",
       "version_major": 2,
       "version_minor": 0
      },
      "text/plain": [
       "  0%|          | 0.00/4.00 [00:00<?, ?B/s]"
      ]
     },
     "metadata": {},
     "output_type": "display_data"
    },
    {
     "name": "stderr",
     "output_type": "stream",
     "text": [
      "\u001b[32m2023-05-03 00:07:09.951\u001b[0m | \u001b[1mINFO    \u001b[0m | \u001b[36mmolfeat.store.modelstore\u001b[0m:\u001b[36mregister\u001b[0m:\u001b[36m124\u001b[0m - \u001b[1mSuccessfuly registered model cats2d !\u001b[0m\n"
     ]
    },
    {
     "data": {
      "application/vnd.jupyter.widget-view+json": {
       "model_id": "1a2169a655684d3489b135d044997f9d",
       "version_major": 2,
       "version_minor": 0
      },
      "text/plain": [
       "  0%|          | 0.00/4.00 [00:00<?, ?B/s]"
      ]
     },
     "metadata": {},
     "output_type": "display_data"
    },
    {
     "name": "stderr",
     "output_type": "stream",
     "text": [
      "\u001b[32m2023-05-03 00:07:13.220\u001b[0m | \u001b[1mINFO    \u001b[0m | \u001b[36mmolfeat.store.modelstore\u001b[0m:\u001b[36mregister\u001b[0m:\u001b[36m124\u001b[0m - \u001b[1mSuccessfuly registered model cats3d !\u001b[0m\n"
     ]
    },
    {
     "data": {
      "application/vnd.jupyter.widget-view+json": {
       "model_id": "20a9b0bfeb794b2a9655e4b938d37388",
       "version_major": 2,
       "version_minor": 0
      },
      "text/plain": [
       "  0%|          | 0.00/4.00 [00:00<?, ?B/s]"
      ]
     },
     "metadata": {},
     "output_type": "display_data"
    },
    {
     "name": "stderr",
     "output_type": "stream",
     "text": [
      "\u001b[32m2023-05-03 00:07:16.481\u001b[0m | \u001b[1mINFO    \u001b[0m | \u001b[36mmolfeat.store.modelstore\u001b[0m:\u001b[36mregister\u001b[0m:\u001b[36m124\u001b[0m - \u001b[1mSuccessfuly registered model usr !\u001b[0m\n"
     ]
    },
    {
     "data": {
      "application/vnd.jupyter.widget-view+json": {
       "model_id": "62cc8a3f10cf45e48e46becf4bd82054",
       "version_major": 2,
       "version_minor": 0
      },
      "text/plain": [
       "  0%|          | 0.00/4.00 [00:00<?, ?B/s]"
      ]
     },
     "metadata": {},
     "output_type": "display_data"
    },
    {
     "name": "stderr",
     "output_type": "stream",
     "text": [
      "\u001b[32m2023-05-03 00:07:19.670\u001b[0m | \u001b[1mINFO    \u001b[0m | \u001b[36mmolfeat.store.modelstore\u001b[0m:\u001b[36mregister\u001b[0m:\u001b[36m124\u001b[0m - \u001b[1mSuccessfuly registered model usrcat !\u001b[0m\n"
     ]
    },
    {
     "data": {
      "application/vnd.jupyter.widget-view+json": {
       "model_id": "12871f1b92934cdfb07940f333d2142b",
       "version_major": 2,
       "version_minor": 0
      },
      "text/plain": [
       "  0%|          | 0.00/4.00 [00:00<?, ?B/s]"
      ]
     },
     "metadata": {},
     "output_type": "display_data"
    },
    {
     "name": "stderr",
     "output_type": "stream",
     "text": [
      "\u001b[32m2023-05-03 00:07:22.829\u001b[0m | \u001b[1mINFO    \u001b[0m | \u001b[36mmolfeat.store.modelstore\u001b[0m:\u001b[36mregister\u001b[0m:\u001b[36m124\u001b[0m - \u001b[1mSuccessfuly registered model electroshape !\u001b[0m\n"
     ]
    },
    {
     "data": {
      "application/vnd.jupyter.widget-view+json": {
       "model_id": "4c6a7d3dd2244f9183ab56d26f51951f",
       "version_major": 2,
       "version_minor": 0
      },
      "text/plain": [
       "  0%|          | 0.00/4.00 [00:00<?, ?B/s]"
      ]
     },
     "metadata": {},
     "output_type": "display_data"
    },
    {
     "name": "stderr",
     "output_type": "stream",
     "text": [
      "\u001b[32m2023-05-03 00:07:26.037\u001b[0m | \u001b[1mINFO    \u001b[0m | \u001b[36mmolfeat.store.modelstore\u001b[0m:\u001b[36mregister\u001b[0m:\u001b[36m124\u001b[0m - \u001b[1mSuccessfuly registered model scaffoldkeys !\u001b[0m\n"
     ]
    },
    {
     "data": {
      "application/vnd.jupyter.widget-view+json": {
       "model_id": "a27699560fbd4c1bbaefbf23986bb25a",
       "version_major": 2,
       "version_minor": 0
      },
      "text/plain": [
       "  0%|          | 0.00/4.00 [00:00<?, ?B/s]"
      ]
     },
     "metadata": {},
     "output_type": "display_data"
    },
    {
     "name": "stderr",
     "output_type": "stream",
     "text": [
      "\u001b[32m2023-05-03 00:07:29.456\u001b[0m | \u001b[1mINFO    \u001b[0m | \u001b[36mmolfeat.store.modelstore\u001b[0m:\u001b[36mregister\u001b[0m:\u001b[36m124\u001b[0m - \u001b[1mSuccessfuly registered model mordred !\u001b[0m\n"
     ]
    },
    {
     "data": {
      "application/vnd.jupyter.widget-view+json": {
       "model_id": "9f561bc62b8244f7a60badfd9e9990cc",
       "version_major": 2,
       "version_minor": 0
      },
      "text/plain": [
       "  0%|          | 0.00/4.00 [00:00<?, ?B/s]"
      ]
     },
     "metadata": {},
     "output_type": "display_data"
    },
    {
     "name": "stderr",
     "output_type": "stream",
     "text": [
      "\u001b[32m2023-05-03 00:07:32.932\u001b[0m | \u001b[1mINFO    \u001b[0m | \u001b[36mmolfeat.store.modelstore\u001b[0m:\u001b[36mregister\u001b[0m:\u001b[36m124\u001b[0m - \u001b[1mSuccessfuly registered model desc2D !\u001b[0m\n"
     ]
    },
    {
     "data": {
      "application/vnd.jupyter.widget-view+json": {
       "model_id": "81cd8289c6f34de0835edb79925079cf",
       "version_major": 2,
       "version_minor": 0
      },
      "text/plain": [
       "  0%|          | 0.00/4.00 [00:00<?, ?B/s]"
      ]
     },
     "metadata": {},
     "output_type": "display_data"
    },
    {
     "name": "stderr",
     "output_type": "stream",
     "text": [
      "\u001b[32m2023-05-03 00:07:36.286\u001b[0m | \u001b[1mINFO    \u001b[0m | \u001b[36mmolfeat.store.modelstore\u001b[0m:\u001b[36mregister\u001b[0m:\u001b[36m124\u001b[0m - \u001b[1mSuccessfuly registered model desc3D !\u001b[0m\n"
     ]
    }
   ],
   "source": [
    "model_infos2 = [pmapper_2d, pmapper_3d, gobbi_2d, gobbi_3d, common_2d, common_3d, cats2d, cats3d, cats2d_ori, cats3d_ori, usr, usrcat, electroshape, scaffoldkey, mordred, desc2d, desc3d]\n",
    "for model_info in model_infos2:\n",
    "    card = ModelInfo(**model_info)\n",
    "    store.register(card, model=None, force=True)"
   ]
  }
 ],
 "metadata": {
  "kernelspec": {
   "display_name": "Python 3",
   "language": "python",
   "name": "python3"
  },
  "language_info": {
   "codemirror_mode": {
    "name": "ipython",
    "version": 3
   },
   "file_extension": ".py",
   "mimetype": "text/x-python",
   "name": "python",
   "nbconvert_exporter": "python",
   "pygments_lexer": "ipython3",
   "version": "3.10.10"
  },
  "orig_nbformat": 4,
  "vscode": {
   "interpreter": {
    "hash": "dd64925fe6617865d410306d2b64fa69b44b63a36aad85fd11f7d4e4dc7609f3"
   }
  }
 },
 "nbformat": 4,
 "nbformat_minor": 2
}
