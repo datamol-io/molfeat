{
 "cells": [
  {
   "cell_type": "code",
   "execution_count": 1,
   "metadata": {},
   "outputs": [],
   "source": [
    "%load_ext autoreload\n",
    "%autoreload 2"
   ]
  },
  {
   "cell_type": "code",
   "execution_count": 2,
   "metadata": {},
   "outputs": [],
   "source": [
    "import molfeat\n",
    "import datamol as dm\n",
    "from molfeat.store.modelcard import ModelInfo"
   ]
  },
  {
   "cell_type": "code",
   "execution_count": 3,
   "metadata": {},
   "outputs": [],
   "source": [
    "import dgllife"
   ]
  },
  {
   "cell_type": "code",
   "execution_count": 4,
   "metadata": {},
   "outputs": [
    {
     "name": "stdout",
     "output_type": "stream",
     "text": [
      "Downloading gin_supervised_edgepred_pre_trained.pth from https://data.dgl.ai/dgllife/pre_trained/gin_supervised_edgepred.pth...\n",
      "Pretrained model loaded\n"
     ]
    }
   ],
   "source": [
    "# an example of supervised GIN model\n",
    "gin_edgepred = ModelInfo(\n",
    "    name = \"gin_supervised_edgepred\",\n",
    "    inputs = \"smiles\",\n",
    "    type=\"pretrained\",\n",
    "    group=\"dgllife\",\n",
    "    version=0,\n",
    "    submitter=\"Datamol\",\n",
    "    description=\"GIN neural network model pre-trained with supervised learning and edge prediction on molecules from ChEMBL.\",\n",
    "    representation=\"graph\",\n",
    "    require_3D=False,\n",
    "    tags = [\"GIN\", \"dgl\", \"pytorch\", \"graph\"],\n",
    "    authors= [\"Weihua Hu\", \"Bowen Liu\", \"Joseph Gomes\", \"Marinka Zitnik\", \"Percy Liang\", \"Vijay Pande\", \"Jure Leskovec\"],\n",
    "    reference = \"https://arxiv.org/abs/1905.12265\" \n",
    ")\n",
    "gin_edgepred_model = dgllife.model.load_pretrained('gin_supervised_edgepred')\n"
   ]
  },
  {
   "cell_type": "code",
   "execution_count": 5,
   "metadata": {},
   "outputs": [
    {
     "name": "stdout",
     "output_type": "stream",
     "text": [
      "Downloading gin_supervised_infomax_pre_trained.pth from https://data.dgl.ai/dgllife/pre_trained/gin_supervised_infomax.pth...\n",
      "Pretrained model loaded\n"
     ]
    }
   ],
   "source": [
    "# an example of supervised GIN model\n",
    "gin_infomax= ModelInfo(\n",
    "    name = \"gin_supervised_infomax\",\n",
    "    inputs = \"smiles\",\n",
    "    type=\"pretrained\",\n",
    "    group=\"dgllife\",\n",
    "    version=0,\n",
    "    submitter=\"Datamol\",\n",
    "    description=\"GIN neural network model pre-trained with mutual information maximisation on molecules from ChEMBL.\",\n",
    "    representation=\"graph\",\n",
    "    require_3D=False,\n",
    "    tags = [\"GIN\", \"dgl\", \"pytorch\", \"graph\"],\n",
    "    authors= [\"Weihua Hu\", \"Bowen Liu\", \"Joseph Gomes\", \"Marinka Zitnik\", \"Percy Liang\", \"Vijay Pande\", \"Jure Leskovec\"],\n",
    "    reference = \"https://arxiv.org/abs/1905.12265\" \n",
    ")\n",
    "gin_infomax_model = dgllife.model.load_pretrained('gin_supervised_infomax')\n"
   ]
  },
  {
   "cell_type": "code",
   "execution_count": 6,
   "metadata": {},
   "outputs": [
    {
     "name": "stdout",
     "output_type": "stream",
     "text": [
      "Downloading gin_supervised_masking_pre_trained.pth from https://data.dgl.ai/dgllife/pre_trained/gin_supervised_masking.pth...\n",
      "Pretrained model loaded\n"
     ]
    }
   ],
   "source": [
    "# an example of supervised GIN model\n",
    "gin_masking= ModelInfo(\n",
    "    name = \"gin_supervised_masking\",\n",
    "    inputs = \"smiles\",\n",
    "    type=\"pretrained\",\n",
    "    group=\"dgllife\",\n",
    "    version=0,\n",
    "    submitter=\"Datamol\",\n",
    "    description=\"GIN neural network model pre-trained with masked modelling on molecules from ChEMBL.\",\n",
    "    representation=\"graph\",\n",
    "    require_3D=False,\n",
    "    tags = [\"GIN\", \"dgl\", \"pytorch\", \"graph\"],\n",
    "    authors= [\"Weihua Hu\", \"Bowen Liu\", \"Joseph Gomes\", \"Marinka Zitnik\", \"Percy Liang\", \"Vijay Pande\", \"Jure Leskovec\"],\n",
    "    reference = \"https://arxiv.org/abs/1905.12265\" \n",
    ")\n",
    "gin_masking_model = dgllife.model.load_pretrained('gin_supervised_masking')\n"
   ]
  },
  {
   "cell_type": "code",
   "execution_count": 7,
   "metadata": {},
   "outputs": [],
   "source": [
    "from molfeat.store.modelstore import ModelStore\n",
    "store = ModelStore()"
   ]
  },
  {
   "cell_type": "code",
   "execution_count": 8,
   "metadata": {},
   "outputs": [
    {
     "data": {
      "text/plain": [
       "['gin_supervised_contextpred',\n",
       " 'jtvae_zinc_no_kl',\n",
       " 'pcqm4mv2_graphormer_base',\n",
       " 'ChemGPT-1.2B',\n",
       " 'ChemGPT-4.7M',\n",
       " 'DeepChem-ChemBERTa-77M-MLM',\n",
       " 'DeepChem-ChemBERTa-77M-MTR',\n",
       " 'maccs']"
      ]
     },
     "execution_count": 8,
     "metadata": {},
     "output_type": "execute_result"
    }
   ],
   "source": [
    "[x.name for x in store.available_models]"
   ]
  },
  {
   "cell_type": "code",
   "execution_count": 9,
   "metadata": {},
   "outputs": [
    {
     "data": {
      "application/vnd.jupyter.widget-view+json": {
       "model_id": "1fffc7c2d6d144f79c41c8b2d944a68c",
       "version_major": 2,
       "version_minor": 0
      },
      "text/plain": [
       "  0%|          | 0.00/7.12M [00:00<?, ?B/s]"
      ]
     },
     "metadata": {},
     "output_type": "display_data"
    },
    {
     "name": "stderr",
     "output_type": "stream",
     "text": [
      "2023-02-14 17:42:54.663 | INFO     | molfeat.store.modelstore:register:124 - Successfuly registered model gin_supervised_edgepred !\n"
     ]
    }
   ],
   "source": [
    "store.register(gin_edgepred, model=gin_edgepred_model, force=True)"
   ]
  },
  {
   "cell_type": "code",
   "execution_count": 10,
   "metadata": {},
   "outputs": [
    {
     "data": {
      "application/vnd.jupyter.widget-view+json": {
       "model_id": "fe97498dacb14aefba894664eb48d21a",
       "version_major": 2,
       "version_minor": 0
      },
      "text/plain": [
       "  0%|          | 0.00/7.12M [00:00<?, ?B/s]"
      ]
     },
     "metadata": {},
     "output_type": "display_data"
    },
    {
     "name": "stderr",
     "output_type": "stream",
     "text": [
      "2023-02-14 17:43:03.718 | INFO     | molfeat.store.modelstore:register:124 - Successfuly registered model gin_supervised_infomax !\n"
     ]
    }
   ],
   "source": [
    "store.register(gin_infomax, model=gin_infomax_model, force=True)"
   ]
  },
  {
   "cell_type": "code",
   "execution_count": 11,
   "metadata": {},
   "outputs": [
    {
     "data": {
      "application/vnd.jupyter.widget-view+json": {
       "model_id": "2b263cfa9945403398b9f3c8c0a4d63a",
       "version_major": 2,
       "version_minor": 0
      },
      "text/plain": [
       "  0%|          | 0.00/7.12M [00:00<?, ?B/s]"
      ]
     },
     "metadata": {},
     "output_type": "display_data"
    },
    {
     "name": "stderr",
     "output_type": "stream",
     "text": [
      "2023-02-14 17:43:17.363 | INFO     | molfeat.store.modelstore:register:124 - Successfuly registered model gin_supervised_masking !\n"
     ]
    }
   ],
   "source": [
    "store.register(gin_masking, model=gin_masking_model, force=True)"
   ]
  },
  {
   "cell_type": "code",
   "execution_count": 12,
   "metadata": {},
   "outputs": [
    {
     "data": {
      "text/plain": [
       "['gin_supervised_contextpred',\n",
       " 'gin_supervised_edgepred',\n",
       " 'gin_supervised_infomax',\n",
       " 'gin_supervised_masking',\n",
       " 'jtvae_zinc_no_kl',\n",
       " 'pcqm4mv2_graphormer_base',\n",
       " 'ChemGPT-1.2B',\n",
       " 'ChemGPT-4.7M',\n",
       " 'DeepChem-ChemBERTa-77M-MLM',\n",
       " 'DeepChem-ChemBERTa-77M-MTR',\n",
       " 'maccs']"
      ]
     },
     "execution_count": 12,
     "metadata": {},
     "output_type": "execute_result"
    }
   ],
   "source": [
    "[x.name for x in store.available_models]"
   ]
  }
 ],
 "metadata": {
  "kernelspec": {
   "display_name": "molfeat-core",
   "language": "python",
   "name": "python3"
  },
  "language_info": {
   "codemirror_mode": {
    "name": "ipython",
    "version": 3
   },
   "file_extension": ".py",
   "mimetype": "text/x-python",
   "name": "python",
   "nbconvert_exporter": "python",
   "pygments_lexer": "ipython3",
   "version": "3.10.8"
  },
  "orig_nbformat": 4,
  "vscode": {
   "interpreter": {
    "hash": "dd64925fe6617865d410306d2b64fa69b44b63a36aad85fd11f7d4e4dc7609f3"
   }
  }
 },
 "nbformat": 4,
 "nbformat_minor": 2
}
