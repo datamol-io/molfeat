{
 "cells": [
  {
   "cell_type": "code",
   "execution_count": 5,
   "metadata": {},
   "outputs": [
    {
     "name": "stdout",
     "output_type": "stream",
     "text": [
      "The autoreload extension is already loaded. To reload it, use:\n",
      "  %reload_ext autoreload\n"
     ]
    }
   ],
   "source": [
    "%load_ext autoreload\n",
    "%autoreload 2"
   ]
  },
  {
   "cell_type": "code",
   "execution_count": 6,
   "metadata": {},
   "outputs": [],
   "source": [
    "from molfeat.trans.pretrained.hf_transformers import HFExperiment\n",
    "from molfeat.trans.pretrained.hf_transformers import HFModel\n",
    "from molfeat.store import ModelInfo\n",
    "from molfeat.store import ModelStore"
   ]
  },
  {
   "attachments": {},
   "cell_type": "markdown",
   "metadata": {},
   "source": [
    "### Register MolT5"
   ]
  },
  {
   "cell_type": "code",
   "execution_count": 7,
   "metadata": {},
   "outputs": [
    {
     "data": {
      "application/vnd.jupyter.widget-view+json": {
       "model_id": "a9d6509d36244014805b1c22eae328a4",
       "version_major": 2,
       "version_minor": 0
      },
      "text/plain": [
       "  0%|          | 0/7 [00:00<?, ?it/s]"
      ]
     },
     "metadata": {},
     "output_type": "display_data"
    },
    {
     "name": "stderr",
     "output_type": "stream",
     "text": [
      "2023-05-03 00:37:06 | WARNING | google.auth._default | No project ID could be determined. Consider running `gcloud config set project` or setting the GOOGLE_CLOUD_PROJECT environment variable\n",
      "\u001b[32m2023-05-03 01:24:34.201\u001b[0m | \u001b[1mINFO    \u001b[0m | \u001b[36mmolfeat.trans.pretrained.hf_transformers\u001b[0m:\u001b[36msave\u001b[0m:\u001b[36m51\u001b[0m - \u001b[1mModel saved to gs://molfeat-store-prod/artifacts/huggingface/MolT5/0/model.save\u001b[0m\n",
      "\u001b[32m2023-05-03 01:24:39.427\u001b[0m | \u001b[1mINFO    \u001b[0m | \u001b[36mmolfeat.store.modelstore\u001b[0m:\u001b[36mregister\u001b[0m:\u001b[36m124\u001b[0m - \u001b[1mSuccessfuly registered model MolT5 !\u001b[0m\n"
     ]
    }
   ],
   "source": [
    "molt5_card = ModelInfo(\n",
    "    name = \"MolT5\",\n",
    "    inputs = \"smiles\",\n",
    "    type=\"pretrained\",\n",
    "    group=\"huggingface\",\n",
    "    version=0,\n",
    "    submitter=\"Desmond Gilmour\",\n",
    "    description=\"MolT5 is a self-supervised learning framework that pretrains transformer-based models on vast amounts of unlabeled natural language text and molecule strings allowing generation of high-quality outputs for molecule captioning and text-based molecule generation.\",\n",
    "    representation=\"line-notation\",\n",
    "    require_3D=False,\n",
    "    tags = [\"smiles\", 'huggingface', \"transformers\", \"text2text\", \"T5\", \"Zinc-15\", \"ChEBI-20\"],\n",
    "    authors= [\"Tuan Manh Lai\", \"Carl Edwards\", \"Kevin Ros\", \"Garret Honke\", \"Kyunghyun Cho\", \"Heng Ji\"],\n",
    "    reference = \"https://arxiv.org/pdf/2204.11817.pdf\" \n",
    ")\n",
    "\n",
    "# attempt to register the model\n",
    "model = HFModel.register_pretrained(\"laituan245/molt5-large-smiles2caption\", \"laituan245/molt5-large-smiles2caption\", molt5_card)"
   ]
  },
  {
   "attachments": {},
   "cell_type": "markdown",
   "metadata": {},
   "source": []
  }
 ],
 "metadata": {
  "kernelspec": {
   "display_name": "molfeat-core",
   "language": "python",
   "name": "python3"
  },
  "language_info": {
   "codemirror_mode": {
    "name": "ipython",
    "version": 3
   },
   "file_extension": ".py",
   "mimetype": "text/x-python",
   "name": "python",
   "nbconvert_exporter": "python",
   "pygments_lexer": "ipython3",
   "version": "3.10.10"
  },
  "orig_nbformat": 4,
  "vscode": {
   "interpreter": {
    "hash": "dd64925fe6617865d410306d2b64fa69b44b63a36aad85fd11f7d4e4dc7609f3"
   }
  }
 },
 "nbformat": 4,
 "nbformat_minor": 2
}
